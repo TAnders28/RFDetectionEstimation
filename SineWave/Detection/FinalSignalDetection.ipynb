{
  "nbformat": 4,
  "nbformat_minor": 0,
  "metadata": {
    "colab": {
      "private_outputs": true,
      "provenance": [],
      "gpuType": "V100"
    },
    "kernelspec": {
      "name": "python3",
      "display_name": "Python 3"
    },
    "language_info": {
      "name": "python"
    },
    "accelerator": "GPU"
  },
  "cells": [
    {
      "cell_type": "code",
      "source": [
        "!pip install komm"
      ],
      "metadata": {
        "id": "paonGQMXGMti"
      },
      "execution_count": null,
      "outputs": []
    },
    {
      "cell_type": "code",
      "source": [
        "!pip install --force-reinstall tsai"
      ],
      "metadata": {
        "id": "D-hhG4xCoXjE"
      },
      "execution_count": null,
      "outputs": []
    },
    {
      "cell_type": "code",
      "source": [
        "!pip install --force-reinstall -v \"numpy == 1.23.1\"\n",
        "\n"
      ],
      "metadata": {
        "id": "bR08ZCtlcfRv"
      },
      "execution_count": null,
      "outputs": []
    },
    {
      "cell_type": "markdown",
      "source": [],
      "metadata": {
        "id": "YIcxczhyYqCG"
      }
    },
    {
      "cell_type": "code",
      "source": [
        "import datagen\n",
        "import numpy as np"
      ],
      "metadata": {
        "id": "RLG97H0zk1ts"
      },
      "execution_count": null,
      "outputs": []
    },
    {
      "cell_type": "code",
      "source": [
        "\n",
        "resultRF, resultIQ = datagen.genSineFile(Ns=1000)\n",
        "np.save(\"Valid/SineWaveOG.npy\", resultRF)\n",
        "np.save(\"Valid/SineWaveIQ.npy\", resultIQ)\n",
        "resultRF, resultIQ = datagen.genNoiseFile(Ns=1000)\n",
        "np.save(\"Valid/NoiseOG.npy\", resultRF)\n",
        "np.save(\"Valid/NoiseIQ.npy\", resultIQ)\n",
        "\n",
        "resultRF, resultIQ = datagen.genSineFile(Ns=1000)\n",
        "np.save(\"TrainTest/SineWaveOG.npy\", resultRF)\n",
        "np.save(\"TrainTest/SineWaveIQ.npy\", resultIQ)\n",
        "resultRF, resultIQ = datagen.genNoiseFile(Ns=1000)\n",
        "np.save(\"TrainTest/NoiseOG.npy\", resultRF)\n",
        "np.save(\"TrainTest/NoiseIQ.npy\", resultIQ)"
      ],
      "metadata": {
        "id": "1nLPvbMS2Hyz"
      },
      "execution_count": null,
      "outputs": []
    },
    {
      "cell_type": "markdown",
      "source": [
        "RANDOM ASS STUFF"
      ],
      "metadata": {
        "id": "0Sq1m3K53nKn"
      }
    },
    {
      "cell_type": "code",
      "source": [
        "!pip3 install Cython"
      ],
      "metadata": {
        "id": "muqWg9z93my9"
      },
      "execution_count": null,
      "outputs": []
    },
    {
      "cell_type": "markdown",
      "source": [
        "TSAI Models"
      ],
      "metadata": {
        "id": "SpqbnRhnhiTJ"
      }
    },
    {
      "cell_type": "code",
      "source": [
        "\n",
        "arch_names =  ['InceptionTimePlus', 'InCoordTime', 'XCoordTime', 'InceptionTimeXLPlus', 'MultiInceptionTimePlus', 'MiniRocketPlus',\n",
        "              'InceptionRocketPlus', 'gMLP', 'MultiInputNet', 'OmniScaleCNN', 'RNNPlus', 'LSTMPlus', 'GRUPlus','MRNN_FCN', 'MLSTM_FCN', 'MGRU_FCN', 'ResCNN',\n",
        "              'ResNetPlus',  'MultiTSTPlus', 'TSiTPlus','TSTabFusionTransformer', 'xresnet1d152plus','xresnet1d50_deeperplus',  'XceptionTimePlus', 'mWDN',\n",
        "              'TSSequencerPlus', \"PatchTST\", \"RNNAttention\", \"LSTMAttention\", \"GRUAttention\"]"
      ],
      "metadata": {
        "id": "9l6Emkxvk7CQ"
      },
      "execution_count": null,
      "outputs": []
    },
    {
      "cell_type": "markdown",
      "source": [
        "No CUDA - This is slow"
      ],
      "metadata": {
        "id": "Z_ZDxVfe5bWZ"
      }
    },
    {
      "cell_type": "code",
      "source": [
        "from tsai import all\n",
        "\n",
        "splits = get_splits(y,1,valid_size = 0.33,\n",
        "                    check_splits = True, shuffle = True, balance = True,stratify=True)\n",
        "\n",
        "tfms = [None, TSClassification()]\n",
        "batch_tfms = TSStandardize()\n",
        "model = TSClassifier(X, y, splits=splits, path='models', arch=\"LSTMAttention\", tfms=tfms, batch_tfms=batch_tfms, metrics=accuracy, cbs=ShowGraph())\n",
        "model.fit_one_cycle(10, 0.0005)\n",
        "model.export(\"LSTMAttentionIQ.pkl\")"
      ],
      "metadata": {
        "id": "YbD2m1gehhri"
      },
      "execution_count": null,
      "outputs": []
    },
    {
      "cell_type": "code",
      "source": [],
      "metadata": {
        "id": "Pl_wKzuZa-vw"
      },
      "execution_count": null,
      "outputs": []
    },
    {
      "cell_type": "code",
      "source": [
        "import datagen\n",
        "\n",
        "import importlib\n",
        "import numpy as np\n",
        "import matplotlib.pyplot as plt\n",
        "import komm\n",
        "\n",
        "importlib.reload(datagen)"
      ],
      "metadata": {
        "id": "EyaXjkBuQrz2"
      },
      "execution_count": null,
      "outputs": []
    },
    {
      "cell_type": "code",
      "source": [
        "X_true = np.load('Valid/SineWaveIQ.npy')\n",
        "X_false = np.load('Valid/NoiseIQ.npy')\n",
        "y_true = np.ones(shape=(X_true.shape[0]))\n",
        "y_false = np.zeros(shape=(X_false.shape[0]))\n",
        "X_valid = np.concatenate((X_true,X_false), axis=0).swapaxes(1,2)\n",
        "y_valid = np.concatenate((y_true,y_false),axis=0)\n",
        "\n",
        "X_true = np.load('TrainTest/SineWaveIQ.npy')\n",
        "X_false = np.load('TrainTest/NoiseIQ.npy')\n",
        "y_true = np.ones(shape=(X_true.shape[0]))\n",
        "y_false = np.zeros(shape=(X_false.shape[0]))\n",
        "X = np.concatenate((X_true,X_false), axis=0).swapaxes(1,2)\n",
        "y = np.concatenate((y_true,y_false),axis=0)\n"
      ],
      "metadata": {
        "id": "oXFDxEjjV_tX"
      },
      "execution_count": null,
      "outputs": []
    },
    {
      "cell_type": "code",
      "source": [
        "splitter = RandomSplitter (valid_pct=0.2, seed=None)\n"
      ],
      "metadata": {
        "id": "bxNT_-u8HCVQ"
      },
      "execution_count": null,
      "outputs": []
    },
    {
      "cell_type": "markdown",
      "source": [
        "device= torch.device(\"cuda\") is the key here\n"
      ],
      "metadata": {
        "id": "r2XwLdB55erZ"
      }
    },
    {
      "cell_type": "code",
      "source": [
        "from tsai.basics import *\n",
        "\n",
        "splits = get_splits(y,1,valid_size = 0.33,\n",
        "                    check_splits = True, shuffle = True, balance = True,stratify=True)\n",
        "\n",
        "tfms = [None, TSClassification()]\n",
        "batch_tfms = TSStandardize()\n",
        "model = TSClassifier(X, y, splits=splits, path='models', arch=\"MiniRocketPlus\", tfms=tfms,\n",
        "                     device= torch.device(\"cuda\"), batch_tfms=batch_tfms, metrics=accuracy, cbs=ShowGraph())\n",
        "model.fit_one_cycle(10, 0.0005)\n",
        "model.export(\"MiniRocketPlus.pkl\")\n",
        "\n",
        "probas, _, __ = model.get_X_preds(X_valid)\n",
        "np.save(\"MiniRocketPlus\", probas)\n"
      ],
      "metadata": {
        "id": "Cm-ShvJvkvlf"
      },
      "execution_count": null,
      "outputs": []
    },
    {
      "cell_type": "code",
      "source": [
        "torch.cuda.memory_summary(device=None, abbreviated=False)"
      ],
      "metadata": {
        "id": "N47YG6_0l8VW"
      },
      "execution_count": null,
      "outputs": []
    },
    {
      "cell_type": "code",
      "source": [
        "from tsai.basics import *\n",
        "\n",
        "# models_of_interest =  [  'TSSequencerPlus', 'MiniRocketPlus']\n",
        "# models_of_interest =  ['InceptionTimePlus', 'XceptionTimePlus', 'LSTMAttention', 'TSSequencerPlus', 'MiniRocketPlus']\n",
        "# models_of_interest =  ['TSSequencerPlus', 'MiniRocketPlus']\n",
        "models_of_interest =  ['LSTMAttention']\n",
        "num_epochs = [5,10,10,10,10]\n",
        "\n",
        "for i in range(len(models_of_interest)):\n",
        "  model_name = models_of_interest[i]\n",
        "  epochs = num_epochs[i]\n",
        "\n",
        "  splits = get_splits(y,1,valid_size = 0.33,\n",
        "                      check_splits = True, shuffle = True, balance = True,stratify=True)\n",
        "\n",
        "  tfms = [None, TSClassification()]\n",
        "  batch_tfms = TSStandardize()\n",
        "  model = TSClassifier(X, y, splits=splits, path='models', arch=model_name, tfms=tfms,\n",
        "                      device= torch.device(\"cuda\"), batch_tfms=batch_tfms, bs=[16,32],metrics=accuracy, cbs=ShowGraph())\n",
        "  model.fit_one_cycle(epochs, 0.0005)\n",
        "  model.export((model_name + \".pkl\"))\n",
        "  probas, _, __ = model.get_X_preds(X_valid)\n",
        "  np.save(model_name, probas)\n"
      ],
      "metadata": {
        "id": "QWkySfuBbAkA"
      },
      "execution_count": null,
      "outputs": []
    },
    {
      "cell_type": "code",
      "source": [
        "from tsai.basics import *\n",
        "\n",
        "model = load_learner(\"models/LSTMAttention.pkl\", cpu=False)\n",
        "probas, _, __ = model.get_X_preds(X_valid)\n",
        "np.save(\"LSTMAttention\", probas)"
      ],
      "metadata": {
        "id": "s3_bceJsOIZO"
      },
      "execution_count": null,
      "outputs": []
    },
    {
      "cell_type": "code",
      "source": [
        "!nvidia-smi -L"
      ],
      "metadata": {
        "id": "v70CTyHoER42"
      },
      "execution_count": null,
      "outputs": []
    },
    {
      "cell_type": "code",
      "source": [],
      "metadata": {
        "id": "Eyq-tSXJsfl5"
      },
      "execution_count": null,
      "outputs": []
    },
    {
      "cell_type": "code",
      "source": [
        "learn = load_learner(\"models/TSSequencerPlus.pkl\", cpu=False)\n",
        "\n",
        "probas, _, __ = learn.get_X_preds(X_valid)"
      ],
      "metadata": {
        "id": "w9sWj7ielDZw"
      },
      "execution_count": null,
      "outputs": []
    },
    {
      "cell_type": "code",
      "source": [],
      "metadata": {
        "id": "P6Nx5ofAhbYB"
      },
      "execution_count": null,
      "outputs": []
    },
    {
      "cell_type": "code",
      "source": [
        "import random as rm"
      ],
      "metadata": {
        "id": "hdoHcOQmhbgK"
      },
      "execution_count": null,
      "outputs": []
    },
    {
      "cell_type": "code",
      "source": [
        "\n",
        "threshold = 0.88\n",
        "\n",
        "index = 35000\n",
        "total = 0\n",
        "for i in range(35000):\n",
        "  sample = probas[index][1] > threshold\n",
        "  total = total + sample\n",
        "  index = index + 1\n",
        "PFA = total / 35000\n",
        "print(\"PFA:\", PFA)\n",
        "\n",
        "\n",
        "index = 0\n",
        "SNRs = np.arange(-30,5)\n",
        "PDs = np.zeros(len(SNRs))\n",
        "for SNR in SNRs:\n",
        "  total = 0\n",
        "  for i in range(1000):\n",
        "    sample = probas[index][1] > threshold\n",
        "    total = total + sample\n",
        "    index = index + 1\n",
        "  PDs[int(index/1000 - 1)] = total / 1000\n",
        "\n",
        "plt.plot(SNRs, PDs)\n",
        "TSSequencerPlus =PDs\n",
        "np.save(\"TSSequencerPlus\", TSSequencerPlus)"
      ],
      "metadata": {
        "id": "AjcXVzB5jSj6"
      },
      "execution_count": null,
      "outputs": []
    },
    {
      "cell_type": "markdown",
      "source": [
        "Energy Detector"
      ],
      "metadata": {
        "id": "etLwchFYLwO1"
      }
    },
    {
      "cell_type": "markdown",
      "source": [
        "RF"
      ],
      "metadata": {
        "id": "JglwCIUJTbJH"
      }
    },
    {
      "cell_type": "code",
      "source": [
        "SNRs = np.arange(-30, 5)\n",
        "PDs = np.zeros((35,1))\n",
        "PFA = 0\n",
        "Iter = 1000\n",
        "Ns = 100\n",
        "Fs = 2048000\n",
        "Thresh=136\n",
        "for SNR in SNRs:\n",
        "  PD = 0\n",
        "  for i in range(Iter):\n",
        "    waveOriginal = datagen.genSineWave(fc = 74000 + rm.random() * 2000,fs=2048000,Ns = Ns)\n",
        "    waveNoisy = datagen.genNoise(Ns=Ns,scaled=False)\n",
        "\n",
        "\n",
        "    # plt.plot(waveOriginal)\n",
        "    # plt.show()\n",
        "    SNRLin = pow(10, SNR/10)\n",
        "\n",
        "    SigPower = SNRLin\n",
        "    waveOriginal = waveOriginal * SNRLin\n",
        "    awgn = komm.AWGNChannel(SNRLin,SigPower)\n",
        "    waveOriginal= awgn(waveOriginal)\n",
        "\n",
        "    # plt.plot(waveOriginal)\n",
        "    # plt.show()\n",
        "\n",
        "    if np.sum(np.power(np.abs(waveOriginal),2)) > Thresh:\n",
        "      PD = PD + 1\n",
        "\n",
        "\n",
        "    if np.sum(np.power(np.abs(waveNoisy),2)) > Thresh:\n",
        "      PFA = PFA + 1\n",
        "    # plt.plot(waveNoisy)\n",
        "    # plt.show()\n",
        "    # plt.plot(waveOriginal)\n",
        "    # plt.show()\n",
        "\n",
        "    # plt.plot(waveNoisy)\n",
        "    # plt.show()\n",
        "    # plt.plot(filtered)\n",
        "    # plt.show()\n",
        "\n",
        "  PD = PD /Iter\n",
        "  print(PD)\n",
        "  PDs[SNR + 30] = PD\n",
        "\n",
        "PFA = PFA / (len(SNRs) * Iter)\n",
        "print(PFA)\n",
        "PDsED100 = PDs"
      ],
      "metadata": {
        "id": "3CDHZDPFLu3K"
      },
      "execution_count": null,
      "outputs": []
    },
    {
      "cell_type": "code",
      "source": [
        "SNRs = np.arange(-30, 5)\n",
        "PDs = np.zeros((35,1))\n",
        "PFA = 0\n",
        "Iter = 1000\n",
        "Ns = 500\n",
        "Fs = 2048000\n",
        "Thresh=576\n",
        "for SNR in SNRs:\n",
        "  PD = 0\n",
        "  for i in range(Iter):\n",
        "    waveOriginal = datagen.genSineWave(fc = 74000 + rm.random() * 2000,fs=2048000,Ns = Ns)\n",
        "    waveNoisy = datagen.genNoise(Ns=Ns,scaled=False)\n",
        "\n",
        "\n",
        "    # plt.plot(waveOriginal)\n",
        "    # plt.show()\n",
        "    SNRLin = pow(10, SNR/10)\n",
        "\n",
        "    SigPower = SNRLin\n",
        "    waveOriginal = waveOriginal * SNRLin\n",
        "    awgn = komm.AWGNChannel(SNRLin,SigPower)\n",
        "    waveOriginal= awgn(waveOriginal)\n",
        "\n",
        "    # plt.plot(waveOriginal)\n",
        "    # plt.show()\n",
        "\n",
        "    if np.sum(np.power(np.abs(waveOriginal),2)) > Thresh:\n",
        "      PD = PD + 1\n",
        "\n",
        "\n",
        "    if np.sum(np.power(np.abs(waveNoisy),2)) > Thresh:\n",
        "      PFA = PFA + 1\n",
        "    # plt.plot(waveNoisy)\n",
        "    # plt.show()\n",
        "    # plt.plot(waveOriginal)\n",
        "    # plt.show()\n",
        "\n",
        "    # plt.plot(waveNoisy)\n",
        "    # plt.show()\n",
        "    # plt.plot(filtered)\n",
        "    # plt.show()\n",
        "\n",
        "  PD = PD /Iter\n",
        "  # print(PD)\n",
        "  PDs[SNR + 30] = PD\n",
        "\n",
        "PFA = PFA / (len(SNRs) * Iter)\n",
        "print(PFA)\n",
        "PDsED500 = PDs"
      ],
      "metadata": {
        "id": "bJ61ILrbUevC"
      },
      "execution_count": null,
      "outputs": []
    },
    {
      "cell_type": "code",
      "source": [
        "SNRs = np.arange(-30, 5)\n",
        "PDs = np.zeros((35,1))\n",
        "PFA = 0\n",
        "Iter = 1000\n",
        "Ns = 1000\n",
        "Fs = 2048000\n",
        "Thresh=1107\n",
        "\n",
        "\n",
        "for SNR in SNRs:\n",
        "  PD = 0\n",
        "  for i in range(Iter):\n",
        "    waveOriginal = datagen.genSineWave(fc = 74000 + rm.random() * 2000,fs=2048000,Ns = Ns)\n",
        "    waveNoisy = datagen.genNoise(Ns=Ns,scaled=False)\n",
        "\n",
        "\n",
        "    # plt.plot(waveOriginal)\n",
        "    # plt.show()\n",
        "    SNRLin = pow(10, SNR/10)\n",
        "\n",
        "    SigPower = SNRLin\n",
        "    waveOriginal = waveOriginal * SNRLin\n",
        "    awgn = komm.AWGNChannel(SNRLin,SigPower)\n",
        "    waveOriginal= awgn(waveOriginal)\n",
        "\n",
        "    # plt.plot(waveOriginal)\n",
        "    # plt.show()\n",
        "\n",
        "    if np.sum(np.power(np.abs(waveOriginal),2)) > Thresh:\n",
        "      PD = PD + 1\n",
        "\n",
        "\n",
        "    if np.sum(np.power(np.abs(waveNoisy),2)) > Thresh:\n",
        "      PFA = PFA + 1\n",
        "    # plt.plot(waveNoisy)\n",
        "    # plt.show()\n",
        "    # plt.plot(waveOriginal)\n",
        "    # plt.show()\n",
        "\n",
        "    # plt.plot(waveNoisy)\n",
        "    # plt.show()\n",
        "    # plt.plot(filtered)\n",
        "    # plt.show()\n",
        "\n",
        "  PD = PD /Iter\n",
        "  print(PD)\n",
        "  PDs[SNR + 30] = PD\n",
        "\n",
        "PFA = PFA / (len(SNRs) * Iter)\n",
        "print(PFA)\n",
        "PDsED1000 = PDs"
      ],
      "metadata": {
        "id": "EhAlZU9sTctn"
      },
      "execution_count": null,
      "outputs": []
    },
    {
      "cell_type": "code",
      "source": [
        "\n",
        "np.save(\"PDED1000RF.npy\",PDsED1000)\n",
        "np.save(\"PDED500RF.npy\",PDsED500)\n",
        "np.save(\"PDED100RF.npy\",PDsED100)\n",
        "plt.plot(PDsED1000)\n",
        "plt.plot(PDsED500)\n",
        "plt.plot(PDsED100)\n"
      ],
      "metadata": {
        "id": "5bDL3IrCUu-X"
      },
      "execution_count": null,
      "outputs": []
    },
    {
      "cell_type": "markdown",
      "source": [
        "IQ"
      ],
      "metadata": {
        "id": "4sz6N7xlhLXD"
      }
    },
    {
      "cell_type": "code",
      "source": [
        "SNRs = np.arange(-30, 5)\n",
        "PDs = np.zeros((35,1))\n",
        "PFA = 0\n",
        "Iter = 1000\n",
        "Ns = 100\n",
        "Thresh = 9.5\n",
        "Fs = 2048000\n",
        "\n",
        "\n",
        "for SNR in SNRs:\n",
        "  PD = 0\n",
        "  for i in range(Iter):\n",
        "    waveOriginal = datagen.genSineWave(fc = 74000 + rm.random() * 2000,fs=Fs,Ns = Ns+100)\n",
        "    noisy = datagen.genNoise(Ns=Ns + 100,scaled=False)\n",
        "\n",
        "    # plt.plot(waveOriginal)\n",
        "    # plt.show()\n",
        "    SNRLin = pow(10, SNR/10)\n",
        "\n",
        "    SigPower = SNRLin\n",
        "    waveOriginal = waveOriginal * SNRLin\n",
        "    awgn = komm.AWGNChannel(SNRLin,SigPower)\n",
        "    waveOriginal= awgn(waveOriginal)\n",
        "\n",
        "    waveOriginalIQ = datagen.convertToIQ(waveOriginal,fReciever = 75000,fs =Fs )\n",
        "    waveOriginalIQ = waveOriginalIQ[:,0] + 1j*waveOriginalIQ[:,1]\n",
        "\n",
        "    noisyIQ = datagen.convertToIQ(noisy,fReciever = 75000,fs =Fs )\n",
        "    noisyIQ = noisyIQ[:,0] + 1j*noisyIQ[:,1]\n",
        "\n",
        "    # print(waveOriginalIQ.shape)\n",
        "    # plt.plot(waveOriginal)\n",
        "    # plt.show()\n",
        "\n",
        "    if np.sum(np.power(np.abs(waveOriginalIQ),2)) > Thresh:\n",
        "      PD = PD + 1\n",
        "\n",
        "\n",
        "    if np.sum(np.power(np.abs(noisyIQ),2)) > Thresh:\n",
        "      PFA = PFA + 1\n",
        "    # plt.plot(waveNoisy)\n",
        "    # plt.show()\n",
        "    # plt.plot(waveOriginal)\n",
        "    # plt.show()\n",
        "\n",
        "    # plt.plot(waveNoisy)\n",
        "    # plt.show()\n",
        "    # plt.plot(filtered)\n",
        "    # plt.show()\n",
        "\n",
        "  PD = PD /Iter\n",
        "  print(PD)\n",
        "  PDs[SNR + 30] = PD\n",
        "\n",
        "PFA = PFA / (len(SNRs) * Iter)\n",
        "print(PFA)\n",
        "PDsED100 = PDs"
      ],
      "metadata": {
        "id": "aMbX8hXVhM-K"
      },
      "execution_count": null,
      "outputs": []
    },
    {
      "cell_type": "code",
      "source": [
        "SNRs = np.arange(-30, 5)\n",
        "PDs = np.zeros((35,1))\n",
        "PFA = 0\n",
        "Iter = 1000\n",
        "Ns = 500\n",
        "Thresh=31\n",
        "Fs = 2048000\n",
        "\n",
        "\n",
        "for SNR in SNRs:\n",
        "  PD = 0\n",
        "  for i in range(Iter):\n",
        "    waveOriginal = datagen.genSineWave(fc = 74000 + rm.random() * 2000,fs=Fs,Ns = Ns+100)\n",
        "    noisy = datagen.genNoise(Ns=Ns + 100,scaled=False)\n",
        "\n",
        "    # plt.plot(waveOriginal)\n",
        "    # plt.show()\n",
        "    SNRLin = pow(10, SNR/10)\n",
        "\n",
        "    SigPower = SNRLin\n",
        "    waveOriginal = waveOriginal * SNRLin\n",
        "    awgn = komm.AWGNChannel(SNRLin,SigPower)\n",
        "    waveOriginal= awgn(waveOriginal)\n",
        "\n",
        "    waveOriginalIQ = datagen.convertToIQ(waveOriginal,fReciever = 75000,fs =Fs )\n",
        "    waveOriginalIQ = waveOriginalIQ[:,0] + 1j*waveOriginalIQ[:,1]\n",
        "\n",
        "    noisyIQ = datagen.convertToIQ(noisy,fReciever = 75000,fs =Fs )\n",
        "    noisyIQ = noisyIQ[:,0] + 1j*noisyIQ[:,1]\n",
        "\n",
        "    # print(waveOriginalIQ.shape)\n",
        "    # plt.plot(waveOriginal)\n",
        "    # plt.show()\n",
        "\n",
        "    if np.sum(np.power(np.abs(waveOriginalIQ),2)) > Thresh:\n",
        "      PD = PD + 1\n",
        "\n",
        "\n",
        "    if np.sum(np.power(np.abs(noisyIQ),2)) > Thresh:\n",
        "      PFA = PFA + 1\n",
        "    # plt.plot(waveNoisy)\n",
        "    # plt.show()\n",
        "    # plt.plot(waveOriginal)\n",
        "    # plt.show()\n",
        "\n",
        "    # plt.plot(waveNoisy)\n",
        "    # plt.show()\n",
        "    # plt.plot(filtered)\n",
        "    # plt.show()\n",
        "\n",
        "  PD = PD /Iter\n",
        "  print(PD)\n",
        "  PDs[SNR + 30] = PD\n",
        "\n",
        "PFA = PFA / (len(SNRs) * Iter)\n",
        "print(PFA)\n",
        "PDsED500 = PDs"
      ],
      "metadata": {
        "id": "ydZ9amcYjlQM"
      },
      "execution_count": null,
      "outputs": []
    },
    {
      "cell_type": "code",
      "source": [
        "SNRs = np.arange(-30, 5)\n",
        "PDs = np.zeros((35,1))\n",
        "PFA = 0\n",
        "Iter = 1000\n",
        "Ns = 1000\n",
        "Thresh=55.2\n",
        "Fs = 2048000\n",
        "\n",
        "\n",
        "for SNR in SNRs:\n",
        "  PD = 0\n",
        "  for i in range(Iter):\n",
        "    waveOriginal = datagen.genSineWave(fc = 74000 + rm.random() * 2000,fs=Fs,Ns = Ns+100)\n",
        "    noisy = datagen.genNoise(Ns=Ns + 100,scaled=False)\n",
        "\n",
        "    # plt.plot(waveOriginal)\n",
        "    # plt.show()\n",
        "    SNRLin = pow(10, SNR/10)\n",
        "\n",
        "    SigPower = SNRLin\n",
        "    waveOriginal = waveOriginal * SNRLin\n",
        "    awgn = komm.AWGNChannel(SNRLin,SigPower)\n",
        "    waveOriginal= awgn(waveOriginal)\n",
        "\n",
        "    waveOriginalIQ = datagen.convertToIQ(waveOriginal,fReciever = 75000,fs =Fs )\n",
        "    waveOriginalIQ = waveOriginalIQ[:,0] + 1j*waveOriginalIQ[:,1]\n",
        "\n",
        "    noisyIQ = datagen.convertToIQ(noisy,fReciever = 75000,fs =Fs )\n",
        "    noisyIQ = noisyIQ[:,0] + 1j*noisyIQ[:,1]\n",
        "\n",
        "    # print(waveOriginalIQ.shape)\n",
        "    # plt.plot(waveOriginal)\n",
        "    # plt.show()\n",
        "\n",
        "    if np.sum(np.power(np.abs(waveOriginalIQ),2)) > Thresh:\n",
        "      PD = PD + 1\n",
        "\n",
        "\n",
        "    if np.sum(np.power(np.abs(noisyIQ),2)) > Thresh:\n",
        "      PFA = PFA + 1\n",
        "    # plt.plot(waveNoisy)\n",
        "    # plt.show()\n",
        "    # plt.plot(waveOriginal)\n",
        "    # plt.show()\n",
        "\n",
        "    # plt.plot(waveNoisy)\n",
        "    # plt.show()\n",
        "    # plt.plot(filtered)\n",
        "    # plt.show()\n",
        "\n",
        "  PD = PD /Iter\n",
        "  print(PD)\n",
        "  PDs[SNR + 30] = PD\n",
        "\n",
        "PFA = PFA / (len(SNRs) * Iter)\n",
        "print(PFA)\n",
        "PDsED1000 = PDs"
      ],
      "metadata": {
        "id": "gSVx7_AKjlxp"
      },
      "execution_count": null,
      "outputs": []
    },
    {
      "cell_type": "code",
      "source": [
        "\n",
        "np.save(\"PDED1000IQ.npy\",PDsED1000)\n",
        "np.save(\"PDED500IQ.npy\",PDsED500)\n",
        "np.save(\"PDED100IQ.npy\",PDsED100)\n",
        "plt.plot(PDsED1000)\n",
        "plt.plot(PDsED500)\n",
        "plt.plot(PDsED100)\n"
      ],
      "metadata": {
        "id": "IzB_Rgp_ksPy"
      },
      "execution_count": null,
      "outputs": []
    },
    {
      "cell_type": "code",
      "source": [
        "!pip install komm"
      ],
      "metadata": {
        "id": "CEYaGWsF7GCM"
      },
      "execution_count": null,
      "outputs": []
    },
    {
      "cell_type": "code",
      "source": [
        "import datagen\n",
        "import numpy as np\n",
        "import matplotlib.pyplot as plt\n"
      ],
      "metadata": {
        "id": "FUjjnKhT7HiZ"
      },
      "execution_count": null,
      "outputs": []
    },
    {
      "cell_type": "code",
      "source": [
        "for i in range(30):\n",
        "\n",
        "  SNRs = np.arange(-30, 5)\n",
        "  PDs = np.zeros((35,1))\n",
        "  PFA = 0\n",
        "  Iter = 1000\n",
        "  Ns = 100\n",
        "  Fs = 2048000\n",
        "  Thresh=11.75\n",
        "  for SNR in SNRs:\n",
        "    PD = 0\n",
        "    for i in range(Iter):\n",
        "      waveOriginal = datagen.genSineWave(fc = 74000 + rm.random() * 2000,fs=Fs,Ns = Ns)\n",
        "      noise = datagen.genNoise(Ns=Ns,scaled=True)\n",
        "\n",
        "\n",
        "      SNRRandRange = SNR - 0.5 + rm.random()\n",
        "      SNRLin = pow(10, SNR/10)\n",
        "\n",
        "      waveOriginal = waveOriginal * SNRLin\n",
        "      SigPower = np.linalg.norm(waveOriginal)**2 / waveOriginal.size\n",
        "      # plt.plot(waveOriginal)\n",
        "      # plt.show()\n",
        "\n",
        "      awgn = komm.AWGNChannel(SNRLin,SigPower)\n",
        "      waveOriginal= awgn(waveOriginal)\n",
        "      waveOriginal = waveOriginal / np.max(np.abs(waveOriginal))\n",
        "\n",
        "      # plt.plot(waveOriginal)\n",
        "      # plt.show()\n",
        "\n",
        "      fourier = np.fft.fft(waveOriginal)\n",
        "      # plt.plot(fourier)\n",
        "      # plt.show()\n",
        "      if np.max(np.abs(fourier)) > Thresh:\n",
        "        PD = PD + 1\n",
        "\n",
        "      fourier = np.fft.fft(noise)\n",
        "      if np.max(np.abs(fourier)) > Thresh:\n",
        "        PFA = PFA + 1\n",
        "\n",
        "    PD = PD /Iter\n",
        "    # print(PD)\n",
        "    PDs[SNR + 30] = PD\n",
        "\n",
        "  PFA = PFA / (len(SNRs) * Iter)\n",
        "  print(PFA)\n",
        "  PDsFFT100 = PDs"
      ],
      "metadata": {
        "id": "zMT-9S4Zm9vb"
      },
      "execution_count": null,
      "outputs": []
    },
    {
      "cell_type": "markdown",
      "source": [
        "Fisher Statistic Thresholding"
      ],
      "metadata": {
        "id": "VHyNB2MvZNG9"
      }
    },
    {
      "cell_type": "markdown",
      "source": [
        "RF"
      ],
      "metadata": {
        "id": "PlnDlRT0dXvd"
      }
    },
    {
      "cell_type": "code",
      "source": [
        "SNRs = np.arange(-30, 5)\n",
        "PDs = np.zeros((35,1))\n",
        "PFA = 0\n",
        "Iter = 1000\n",
        "Ns = 100\n",
        "Fs = 2048000\n",
        "Thresh=11.7\n",
        "for SNR in SNRs:\n",
        "  PD = 0\n",
        "  for i in range(Iter):\n",
        "    waveOriginal = datagen.genSineWave(fc = 74000 + rm.random() * 2000,fs=Fs,Ns = Ns)\n",
        "    noise = datagen.genNoise(Ns=Ns,scaled=True)\n",
        "\n",
        "\n",
        "    SNRRandRange = SNR - 0.5 + rm.random()\n",
        "    SNRLin = pow(10, SNR/10)\n",
        "\n",
        "    waveOriginal = waveOriginal * SNRLin\n",
        "    SigPower = np.linalg.norm(waveOriginal)**2 / waveOriginal.size\n",
        "    # plt.plot(waveOriginal)\n",
        "    # plt.show()\n",
        "\n",
        "    awgn = komm.AWGNChannel(SNRLin,SigPower)\n",
        "    waveOriginal= awgn(waveOriginal)\n",
        "    waveOriginal = waveOriginal / np.max(np.abs(waveOriginal))\n",
        "\n",
        "    # plt.plot(waveOriginal)\n",
        "    # plt.show()\n",
        "\n",
        "    fourier = np.fft.fft(waveOriginal)\n",
        "    # plt.plot(fourier)\n",
        "    # plt.show()\n",
        "    if np.max(np.abs(fourier)) > Thresh:\n",
        "      PD = PD + 1\n",
        "\n",
        "    fourier = np.fft.fft(noise)\n",
        "    if np.max(np.abs(fourier)) > Thresh:\n",
        "      PFA = PFA + 1\n",
        "\n",
        "  PD = PD /Iter\n",
        "  print(PD)\n",
        "  PDs[SNR + 30] = PD\n",
        "\n",
        "PFA = PFA / (len(SNRs) * Iter)\n",
        "print(PFA)\n",
        "PDsFFT100 = PDs"
      ],
      "metadata": {
        "id": "ZCDJYii-NY-c"
      },
      "execution_count": null,
      "outputs": []
    },
    {
      "cell_type": "code",
      "source": [
        "np.save(\"PDsFFT100IQ\",PDsFFT100IQ)"
      ],
      "metadata": {
        "id": "jLDaUhay81xj"
      },
      "execution_count": null,
      "outputs": []
    },
    {
      "cell_type": "code",
      "source": [
        "SNRs = np.arange(-30, 5)\n",
        "PDs = np.zeros((35,1))\n",
        "PFA = 0\n",
        "Iter = 1000\n",
        "Ns = 500\n",
        "Fs = 2048000\n",
        "Thresh=24\n",
        "\n",
        "for SNR in SNRs:\n",
        "  PD = 0\n",
        "  for i in range(Iter):\n",
        "    waveOriginal = datagen.genSineWave(fc = 74000 + rm.random() * 2000,fs=Fs,Ns = Ns)\n",
        "    noise = datagen.genNoise(Ns=Ns,scaled=True)\n",
        "\n",
        "\n",
        "    SNRRandRange = SNR - 0.5 + rm.random()\n",
        "    SNRLin = pow(10, SNR/10)\n",
        "\n",
        "    waveOriginal = waveOriginal * SNRLin\n",
        "    SigPower = np.linalg.norm(waveOriginal)**2 / waveOriginal.size\n",
        "    # plt.plot(waveOriginal)\n",
        "    # plt.show()\n",
        "\n",
        "    awgn = komm.AWGNChannel(SNRLin,SigPower)\n",
        "    waveOriginal= awgn(waveOriginal)\n",
        "    waveOriginal = waveOriginal / np.max(np.abs(waveOriginal))\n",
        "\n",
        "    # plt.plot(waveOriginal)\n",
        "    # plt.show()\n",
        "\n",
        "    fourier = np.fft.fft(waveOriginal)\n",
        "    # plt.plot(fourier)\n",
        "    # plt.show()\n",
        "    if np.max(np.abs(fourier)) > Thresh:\n",
        "      PD = PD + 1\n",
        "\n",
        "    fourier = np.fft.fft(noise)\n",
        "    if np.max(np.abs(fourier)) > Thresh:\n",
        "      PFA = PFA + 1\n",
        "\n",
        "  PD = PD /Iter\n",
        "  print(PD)\n",
        "  PDs[SNR + 30] = PD\n",
        "\n",
        "PFA = PFA / (len(SNRs) * Iter)\n",
        "print(PFA)\n",
        "PDsFFT500 = PDs"
      ],
      "metadata": {
        "id": "k5MgeWubZ_7N"
      },
      "execution_count": null,
      "outputs": []
    },
    {
      "cell_type": "code",
      "source": [
        "SNRs = np.arange(-30, 5)\n",
        "PDs = np.zeros((35,1))\n",
        "PFA = 0\n",
        "Iter = 1000\n",
        "Ns = 1000\n",
        "Thresh=32.45\n",
        "Fs = 2048000\n",
        "\n",
        "for SNR in SNRs:\n",
        "  PD = 0\n",
        "  for i in range(Iter):\n",
        "    waveOriginal = datagen.genSineWave(fc = 74000 + rm.random() * 2000,fs=Fs,Ns = Ns)\n",
        "    noise = datagen.genNoise(Ns=Ns,scaled=True)\n",
        "\n",
        "\n",
        "    SNRRandRange = SNR - 0.5 + rm.random()\n",
        "    SNRLin = pow(10, SNR/10)\n",
        "\n",
        "    waveOriginal = waveOriginal * SNRLin\n",
        "    SigPower = np.linalg.norm(waveOriginal)**2 / waveOriginal.size\n",
        "    # plt.plot(waveOriginal)\n",
        "    # plt.show()\n",
        "\n",
        "    awgn = komm.AWGNChannel(SNRLin,SigPower)\n",
        "    waveOriginal= awgn(waveOriginal)\n",
        "    waveOriginal = waveOriginal / np.max(np.abs(waveOriginal))\n",
        "\n",
        "    # plt.plot(waveOriginal)\n",
        "    # plt.show()\n",
        "\n",
        "    fourier = np.fft.fft(waveOriginal)\n",
        "    # plt.plot(fourier)\n",
        "    # plt.show()\n",
        "    if np.max(np.abs(fourier)) > Thresh:\n",
        "      PD = PD + 1\n",
        "\n",
        "    fourier = np.fft.fft(noise)\n",
        "    if np.max(np.abs(fourier)) > Thresh:\n",
        "      PFA = PFA + 1\n",
        "\n",
        "  PD = PD /Iter\n",
        "  print(PD)\n",
        "  PDs[SNR + 30] = PD\n",
        "\n",
        "PFA = PFA / (len(SNRs) * Iter)\n",
        "print(PFA)\n",
        "PDsFFT1000 = PDs"
      ],
      "metadata": {
        "id": "2WE1xXZ2bvFX"
      },
      "execution_count": null,
      "outputs": []
    },
    {
      "cell_type": "code",
      "source": [
        "\n",
        "np.save(\"PDsFFT1000RF.npy\",PDsFFT1000)"
      ],
      "metadata": {
        "id": "vvIyqeJIwaiV"
      },
      "execution_count": null,
      "outputs": []
    },
    {
      "cell_type": "code",
      "source": [
        "np.save(\"PDsFFT100RF.npy\",PDsFFT100)\n",
        "np.save(\"PDsFFT500RF.npy\",PDsFFT500)\n",
        "np.save(\"PDsFFT1000RF.npy\",PDsFFT1000)\n",
        "plt.plot(PDsFFT100)\n",
        "plt.plot(PDsFFT500)\n",
        "plt.plot(PDsFFT1000)\n",
        "plt.show()"
      ],
      "metadata": {
        "id": "AVhuXmt3dqsD"
      },
      "execution_count": null,
      "outputs": []
    },
    {
      "cell_type": "markdown",
      "source": [
        "IQ"
      ],
      "metadata": {
        "id": "eMDW6JvZnp6-"
      }
    },
    {
      "cell_type": "code",
      "source": [
        "# SNRs = np.arange(-30, 5)\n",
        "# PDs = np.zeros((35,1))\n",
        "# PFA = 0\n",
        "# Iter = 10\n",
        "# Ns = 100\n",
        "# Fs = 2048000\n",
        "# Thresh = 70\n",
        "# Omega= Ns/2 - 1\n",
        "\n",
        "# for SNR in SNRs:\n",
        "#   PD = 0\n",
        "#   for i in range(Iter):\n",
        "#     waveOriginal = datagen.genSineWave(fc = 74000 + rm.random() * 2000,fs=Fs,Ns = Ns + 100)\n",
        "\n",
        "\n",
        "\n",
        "#     SNRRandRange = SNR - 0.5 + rm.random()\n",
        "#     SNRLin = pow(10, SNR/10)\n",
        "#     SigPower = np.linalg.norm(waveOriginal)**2 / waveOriginal.size\n",
        "#     NoisePower = SigPower / SNRLin\n",
        "#     noise = datagen.genNoise(Ns=Ns+100,sigma = np.sqrt(NoisePower),scaled=False)\n",
        "\n",
        "#     waveNoisy= waveOriginal + noise\n",
        "\n",
        "\n",
        "\n",
        "\n",
        "#     waveOriginalIQ = datagen.convertToIQ(waveOriginal,fReciever = 75000,fs =Fs )\n",
        "#     waveOriginalIQ = waveOriginalIQ[:,0] + 1j*waveOriginalIQ[:,1]\n",
        "#     # waveOriginalIQ = waveOriginalIQ / np.max(np.abs(waveOriginalIQ))\n",
        "\n",
        "\n",
        "#     noisyIQ = datagen.convertToIQ(noise,fReciever = 75000,fs =Fs )\n",
        "#     noisyIQ = noisyIQ[:,0] + 1j*noisyIQ[:,1]\n",
        "#     # noisyIQ = noisyIQ / np.max(np.abs(noisyIQ))\n",
        "\n",
        "#     plt.plot(waveOriginal)\n",
        "#     plt.show()\n",
        "\n",
        "#     fourier = np.fft.fft(waveOriginalIQ)\n",
        "#     I = fourier * np.conj(fourier)/(2*np.pi*Ns);\n",
        "#     F = np.max(I)/np.sum(I)\n",
        "#     Z = Ns*F-np.log(Ns)\n",
        "#     # plt.plot(fourier)\n",
        "#     # plt.show()\n",
        "#     # print(Z)\n",
        "#     if np.max(np.abs(Z)) > Thresh:\n",
        "#       PD = PD + 1\n",
        "\n",
        "#     fourier = np.fft.fft(noisyIQ)\n",
        "#     I = fourier * np.conj(fourier)/(2*np.pi*Ns);\n",
        "#     # print(I.shape)\n",
        "#     F = max(I)/sum(I);\n",
        "#     Z = Ns*F-np.log(Ns)\n",
        "#     # print(Z)\n",
        "#     if np.max(np.abs(Z)) > Thresh:\n",
        "#       PFA = PFA + 1\n",
        "\n",
        "#   PD = PD /Iter\n",
        "#   print(\"SNR:\",SNR,PD)\n",
        "#   PDs[SNR + 30] = PD\n",
        "\n",
        "# PFA = PFA / (len(SNRs) * Iter)\n",
        "# print(\"PFA:\", PFA)\n",
        "# PDsFFT100IQ = PDs"
      ],
      "metadata": {
        "id": "dtMPARaO7XkE"
      },
      "execution_count": null,
      "outputs": []
    },
    {
      "cell_type": "code",
      "source": [
        "!pip install komm"
      ],
      "metadata": {
        "id": "JPrOfMBphFTl"
      },
      "execution_count": null,
      "outputs": []
    },
    {
      "cell_type": "code",
      "source": [
        "import numpy as np\n",
        "import komm\n",
        "import random as rm\n",
        "import datagen\n"
      ],
      "metadata": {
        "id": "MLQLiRRuhFYB"
      },
      "execution_count": null,
      "outputs": []
    },
    {
      "cell_type": "code",
      "source": [
        "0.01\n",
        "0.009\n",
        "0.012\n",
        "0.019\n",
        "0.012\n",
        "0.015\n",
        "0.019\n",
        "0.014\n",
        "0.015\n",
        "0.014\n",
        "0.015\n",
        "0.022\n",
        "0.03\n",
        "0.03\n",
        "0.029\n",
        "0.041\n",
        "0.047\n",
        "0.079\n",
        "0.087\n",
        "0.154\n",
        "0.186\n",
        "0.235\n",
        "0.353\n",
        "0.451\n",
        "0.553\n",
        "0.656\n",
        "0.772\n",
        "0.856\n",
        "0.927\n",
        "0.977\n",
        "0.99\n",
        "0.998\n",
        "1.0\n",
        "1.0\n",
        "1.0"
      ],
      "metadata": {
        "id": "tUc9KW-RkwHj"
      },
      "execution_count": null,
      "outputs": []
    },
    {
      "cell_type": "code",
      "source": [
        "SNRs = np.arange(-30, 5)\n",
        "PDs = np.zeros((35,1))\n",
        "PFA = 0\n",
        "Iter = 1000\n",
        "Ns = 100\n",
        "Fs = 2048000\n",
        "Thresh=7.95\n",
        "\n",
        "for SNR in SNRs:\n",
        "  PD = 0\n",
        "  for i in range(Iter):\n",
        "    waveOriginal = datagen.genSineWave(fc = 74000 + rm.random() * 2000,fs=Fs,Ns = Ns + 100)\n",
        "    noisy = datagen.genNoise(Ns=Ns + 100,scaled=True)\n",
        "\n",
        "\n",
        "    SNRRandRange = SNR - 0.5 + rm.random()\n",
        "    SNRLin = pow(10, SNR/10)\n",
        "\n",
        "    waveOriginal = waveOriginal * SNRLin\n",
        "    SigPower = np.linalg.norm(waveOriginal)**2 / waveOriginal.size\n",
        "    # plt.plot(waveOriginal)\n",
        "    # plt.show()\n",
        "\n",
        "    awgn = komm.AWGNChannel(SNRLin,SigPower)\n",
        "    waveOriginal= awgn(waveOriginal)\n",
        "    waveOriginal = waveOriginal / np.max(np.abs(waveOriginal))\n",
        "\n",
        "\n",
        "\n",
        "    waveOriginalIQ = datagen.convertToIQ(waveOriginal,fReciever = 75000,fs =Fs )\n",
        "    waveOriginalIQ = waveOriginalIQ[:,0] + 1j*waveOriginalIQ[:,1]\n",
        "    # waveOriginalIQ = waveOriginalIQ / np.max(np.abs(waveOriginalIQ))\n",
        "\n",
        "\n",
        "    noisyIQ = datagen.convertToIQ(noisy,fReciever = 75000,fs =Fs )\n",
        "    noisyIQ = noisyIQ[:,0] + 1j*noisyIQ[:,1]\n",
        "    # noisyIQ = noisyIQ / np.max(np.abs(noisyIQ))\n",
        "\n",
        "    # plt.plot(waveOriginal)\n",
        "    # plt.show()\n",
        "\n",
        "    fourier = np.fft.fft(waveOriginalIQ)\n",
        "    # plt.plot(fourier)\n",
        "    # plt.show()\n",
        "    if np.max(np.abs(fourier)) > Thresh:\n",
        "      PD = PD + 1\n",
        "\n",
        "    fourier = np.fft.fft(noisyIQ)\n",
        "    if np.max(np.abs(fourier)) > Thresh:\n",
        "      PFA = PFA + 1\n",
        "\n",
        "  PD = PD /Iter\n",
        "  print(PD)\n",
        "  PDs[SNR + 30] = PD\n",
        "\n",
        "PFA = PFA / (len(SNRs) * Iter)\n",
        "print(\"PFA:\", PFA)\n",
        "PDsFFT100 = PDs"
      ],
      "metadata": {
        "id": "_K_zHaghQQCq"
      },
      "execution_count": null,
      "outputs": []
    },
    {
      "cell_type": "code",
      "source": [
        "SNRs = np.arange(-30, 5)\n",
        "PDs = np.zeros((35,1))\n",
        "PFA = 0\n",
        "Iter = 1000\n",
        "Ns = 500\n",
        "Fs = 2048000\n",
        "Thresh= 147.5\n",
        "\n",
        "for SNR in SNRs:\n",
        "  PD = 0\n",
        "  for i in range(Iter):\n",
        "    waveOriginal = datagen.genSineWave(fc = 74000 + rm.random() * 2000,fs=Fs,Ns = Ns + 100)\n",
        "    noisy = datagen.genNoise(Ns=Ns + 100,scaled=True)\n",
        "\n",
        "\n",
        "    SNRRandRange = SNR - 0.5 + rm.random()\n",
        "    SNRLin = pow(10, SNR/10)\n",
        "\n",
        "    waveOriginal = waveOriginal * SNRLin\n",
        "    SigPower = np.linalg.norm(waveOriginal)**2 / waveOriginal.size\n",
        "    # plt.plot(waveOriginal)\n",
        "    # plt.show()\n",
        "\n",
        "    awgn = komm.AWGNChannel(SNRLin,SigPower)\n",
        "    waveOriginal= awgn(waveOriginal)\n",
        "    waveOriginal = waveOriginal / np.max(np.abs(waveOriginal))\n",
        "\n",
        "\n",
        "\n",
        "    waveOriginalIQ = datagen.convertToIQ(waveOriginal,fReciever = 75000,fs =Fs )\n",
        "    waveOriginalIQ = waveOriginalIQ[:,0] + 1j*waveOriginalIQ[:,1]\n",
        "    waveOriginalIQ = waveOriginalIQ / np.max(np.abs(waveOriginalIQ))\n",
        "\n",
        "\n",
        "    noisyIQ = datagen.convertToIQ(noisy,fReciever = 75000,fs =Fs )\n",
        "    noisyIQ = noisyIQ[:,0] + 1j*noisyIQ[:,1]\n",
        "    noisyIQ = noisyIQ / np.max(np.abs(noisyIQ))\n",
        "\n",
        "    # plt.plot(waveOriginal)\n",
        "    # plt.show()\n",
        "\n",
        "    fourier = np.fft.fft(waveOriginalIQ)\n",
        "    # plt.plot(fourier)\n",
        "    # plt.show()\n",
        "    if np.max(np.abs(fourier)) > Thresh:\n",
        "      PD = PD + 1\n",
        "\n",
        "    fourier = np.fft.fft(noisyIQ)\n",
        "    if np.max(np.abs(fourier)) > Thresh:\n",
        "      PFA = PFA + 1\n",
        "\n",
        "  PD = PD /Iter\n",
        "  print(PD)\n",
        "  PDs[SNR + 30] = PD\n",
        "\n",
        "PFA = PFA / (len(SNRs) * Iter)\n",
        "print(\"PFA:\", PFA)\n",
        "PDsFFT500 = PDs"
      ],
      "metadata": {
        "id": "FBPyEf8doMXk"
      },
      "execution_count": null,
      "outputs": []
    },
    {
      "cell_type": "code",
      "source": [
        "SNRs = np.arange(-30, 5)\n",
        "PDs = np.zeros((35,1))\n",
        "PFA = 0\n",
        "Iter = 1000\n",
        "Ns = 1000\n",
        "Fs = 2048000\n",
        "Thresh= 206\n",
        "\n",
        "for SNR in SNRs:\n",
        "  PD = 0\n",
        "  for i in range(Iter):\n",
        "    waveOriginal = datagen.genSineWave(fc = 74000 + rm.random() * 2000,fs=Fs,Ns = Ns + 100)\n",
        "    noisy = datagen.genNoise(Ns=Ns + 100,scaled=True)\n",
        "\n",
        "\n",
        "    SNRRandRange = SNR - 0.5 + rm.random()\n",
        "    SNRLin = pow(10, SNR/10)\n",
        "\n",
        "    waveOriginal = waveOriginal * SNRLin\n",
        "    SigPower = np.linalg.norm(waveOriginal)**2 / waveOriginal.size\n",
        "    # plt.plot(waveOriginal)\n",
        "    # plt.show()\n",
        "\n",
        "    awgn = komm.AWGNChannel(SNRLin,SigPower)\n",
        "    waveOriginal= awgn(waveOriginal)\n",
        "    waveOriginal = waveOriginal / np.max(np.abs(waveOriginal))\n",
        "\n",
        "\n",
        "\n",
        "    waveOriginalIQ = datagen.convertToIQ(waveOriginal,fReciever = 75000,fs =Fs )\n",
        "    waveOriginalIQ = waveOriginalIQ[:,0] + 1j*waveOriginalIQ[:,1]\n",
        "    waveOriginalIQ = waveOriginalIQ / np.max(np.abs(waveOriginalIQ))\n",
        "\n",
        "\n",
        "    noisyIQ = datagen.convertToIQ(noisy,fReciever = 75000,fs =Fs )\n",
        "    noisyIQ = noisyIQ[:,0] + 1j*noisyIQ[:,1]\n",
        "    noisyIQ = noisyIQ / np.max(np.abs(noisyIQ))\n",
        "\n",
        "    # plt.plot(waveOriginal)\n",
        "    # plt.show()\n",
        "\n",
        "    fourier = np.fft.fft(waveOriginalIQ)\n",
        "    # plt.plot(fourier)\n",
        "    # plt.show()\n",
        "    if np.max(np.abs(fourier)) > Thresh:\n",
        "      PD = PD + 1\n",
        "\n",
        "    fourier = np.fft.fft(noisyIQ)\n",
        "    if np.max(np.abs(fourier)) > Thresh:\n",
        "      PFA = PFA + 1\n",
        "\n",
        "  PD = PD /Iter\n",
        "  print(PD)\n",
        "  PDs[SNR + 30] = PD\n",
        "\n",
        "PFA = PFA / (len(SNRs) * Iter)\n",
        "print(\"PFA:\", PFA)\n",
        "PDsFFT1000 = PDs"
      ],
      "metadata": {
        "id": "vAGe-HdorgSo"
      },
      "execution_count": null,
      "outputs": []
    },
    {
      "cell_type": "code",
      "source": [
        "np.save(\"PDsFFT100IQ.npy\",PDsFFT100)\n",
        "np.save(\"PDsFFT500IQ.npy\",PDsFFT500)\n",
        "np.save(\"PDsFFT1000IQ.npy\",PDsFFT1000)\n",
        "plt.plot(PDsFFT100)\n",
        "plt.plot(PDsFFT500)\n",
        "plt.plot(PDsFFT1000)\n",
        "plt.show()"
      ],
      "metadata": {
        "id": "TMpiZKCEqX3A"
      },
      "execution_count": null,
      "outputs": []
    },
    {
      "cell_type": "code",
      "source": [],
      "metadata": {
        "id": "Q3FHNeYDfbp8"
      },
      "execution_count": null,
      "outputs": []
    },
    {
      "cell_type": "code",
      "source": [
        "IQ1 = np.load(\"PDsFFT100IQ.npy\")\n",
        "IQ5 = np.load(\"PDsFFT500IQ.npy\")\n",
        "IQ10 = np.load(\"PDsFFT1000IQ.npy\")\n",
        "RF1 = np.load(\"PDsFFT100RF.npy\")\n",
        "RF5 = np.load(\"PDsFFT500RF.npy\")\n",
        "RF10 = np.load(\"PDsFFT1000RF.npy\")"
      ],
      "metadata": {
        "id": "gXUJTJETfbuI"
      },
      "execution_count": null,
      "outputs": []
    },
    {
      "cell_type": "code",
      "source": [
        "plt.plot(RF1,label=\"RF1\")\n",
        "plt.plot(RF5,label=\"RF5\")\n",
        "plt.plot(RF10,label=\"RF10\")\n",
        "plt.plot(IQ1,label=\"IQ1\")\n",
        "plt.plot(IQ5,label=\"IQ5\")\n",
        "plt.plot(IQ10,label=\"IQ10\")\n",
        "plt.legend()"
      ],
      "metadata": {
        "id": "e6CR7JswfsQV"
      },
      "execution_count": null,
      "outputs": []
    },
    {
      "cell_type": "markdown",
      "source": [
        "Matched Filtering\n"
      ],
      "metadata": {
        "id": "U_GKvTbfG62l"
      }
    },
    {
      "cell_type": "code",
      "source": [
        "!pip install komm"
      ],
      "metadata": {
        "id": "RjcGIgUBdxOX"
      },
      "execution_count": null,
      "outputs": []
    },
    {
      "cell_type": "code",
      "source": [
        "import datagen\n",
        "import importlib\n",
        "import numpy as np\n",
        "import matplotlib.pyplot as plt\n",
        "\n",
        "importlib.reload(datagen)"
      ],
      "metadata": {
        "id": "X4ZtpKiHE5ct"
      },
      "execution_count": null,
      "outputs": []
    },
    {
      "cell_type": "code",
      "source": [],
      "metadata": {
        "id": "v2cHq3J8uqKV"
      },
      "execution_count": null,
      "outputs": []
    },
    {
      "cell_type": "code",
      "source": [
        "\n",
        "waveOriginal, waveNoisy,SNR = datagen.genSineWavePaired(0,Ns = 500, scaled=False)"
      ],
      "metadata": {
        "id": "wE9RuOnkE-Fu"
      },
      "execution_count": null,
      "outputs": []
    },
    {
      "cell_type": "code",
      "source": [
        "plt.plot(waveOriginal)"
      ],
      "metadata": {
        "id": "oGv5rytNus5x"
      },
      "execution_count": null,
      "outputs": []
    },
    {
      "cell_type": "code",
      "source": [],
      "metadata": {
        "id": "Duj3QULdL7np"
      },
      "execution_count": null,
      "outputs": []
    },
    {
      "cell_type": "code",
      "source": [
        "from matplotlib import pyplot as plt\n",
        "from scipy import special as sp\n",
        "\n",
        "def invQfunc(x):\n",
        "    return np.sqrt(2)*sp.erfinv(1-2*x)\n",
        "# plt.plot(noisy)"
      ],
      "metadata": {
        "id": "S8ARjkE2L6SS"
      },
      "execution_count": null,
      "outputs": []
    },
    {
      "cell_type": "code",
      "source": [],
      "metadata": {
        "id": "mUoawz8NZeHo"
      },
      "execution_count": null,
      "outputs": []
    },
    {
      "cell_type": "code",
      "source": [],
      "metadata": {
        "id": "Kbz7UylRwKil"
      },
      "execution_count": null,
      "outputs": []
    },
    {
      "cell_type": "code",
      "source": [
        "SNRTrue = -30\n",
        "SNRLin = pow(10, SNRTrue/10)\n",
        "sigma = np.sqrt(1/SNRLin/2);\n",
        "eta = sigma/np.sqrt(2*Ns)*invQfunc(DesiredPfa);"
      ],
      "metadata": {
        "id": "miSoadVmwKn7"
      },
      "execution_count": null,
      "outputs": []
    },
    {
      "cell_type": "code",
      "source": [
        "print(eta)"
      ],
      "metadata": {
        "id": "uw-0zwB-wSrK"
      },
      "execution_count": null,
      "outputs": []
    },
    {
      "cell_type": "code",
      "source": [
        "print(sigma)"
      ],
      "metadata": {
        "id": "t06WWHTfwOv_"
      },
      "execution_count": null,
      "outputs": []
    },
    {
      "cell_type": "code",
      "source": [
        "SNRs = np.arange(-30, 5)\n",
        "PDs = np.zeros((35,1))\n",
        "DesiredPfa = 0.01\n",
        "PFA = 0\n",
        "Iter = 1000\n",
        "Ns = 100\n",
        "scale = 1.34\n",
        "for SNR in SNRs:\n",
        "  PD = 0\n",
        "  for i in range(Iter):\n",
        "    waveOriginal, waveNoisy, SNRTrue = datagen.genSineWavePaired(SNR,Ns = Ns, scaled=True)\n",
        "\n",
        "\n",
        "    SNRLin = pow(10, SNRTrue/10)\n",
        "    sigma = np.sqrt(1/SNRLin/2);\n",
        "    eta = sigma/np.sqrt(2*Ns)*invQfunc(DesiredPfa);\n",
        "    eta = eta * scale\n",
        "\n",
        "\n",
        "\n",
        "    # print(eta)\n",
        "    filtered = np.convolve(waveOriginal,waveNoisy) / Ns\n",
        "    # print(eta)\n",
        "    if np.max(np.abs(filtered)) > eta:\n",
        "      PD = PD + 1\n",
        "\n",
        "    noisy = datagen.genNoise(Ns = Ns, scaled=False,sigma=sigma)\n",
        "    filtered = np.convolve(waveOriginal,noisy) / Ns\n",
        "    # print(eta)\n",
        "    if np.max(np.abs(filtered)) > eta:\n",
        "      PFA = PFA + 1\n",
        "    # plt.plot(waveNoisy)\n",
        "    # plt.show()\n",
        "    # plt.plot(noisy)\n",
        "    # plt.show()\n",
        "    # plt.plot(waveOriginal)\n",
        "    # plt.show()\n",
        "    # plt.plot(filtered)\n",
        "    # plt.show()\n",
        "\n",
        "  PD = PD /Iter\n",
        "  print(PD)\n",
        "  PDs[SNR + 30] = PD\n",
        "\n",
        "PFA = PFA / (len(SNRs) * Iter)\n",
        "print(PFA)\n",
        "PDsMF100 = PDs"
      ],
      "metadata": {
        "id": "dV2reM_BJH6E"
      },
      "execution_count": null,
      "outputs": []
    },
    {
      "cell_type": "markdown",
      "source": [
        "Baseband Matched Filtering\n"
      ],
      "metadata": {
        "id": "9k5XEsnBDwa-"
      }
    },
    {
      "cell_type": "code",
      "source": [
        "SNRs = np.arange(-30, 5)\n",
        "PDs = np.zeros((35,1))\n",
        "DesiredPfa = 0.01\n",
        "PFA = 0\n",
        "Iter = 1000\n",
        "Ns = 100\n",
        "scale = 1\n",
        "\n",
        "for SNR in SNRs:\n",
        "  PD = 0\n",
        "  for i in range(Iter):\n",
        "    waveOriginal, waveNoisy, SNRTrue = datagen.genSineWavePaired(SNR,Ns = Ns, scaled=False)\n",
        "\n",
        "\n",
        "    # print(waveOriginal.shape)\n",
        "    # print(waveNoisy.shape)\n",
        "    # print(waveNoisy.shape)\n",
        "\n",
        "\n",
        "    SNRLin = pow(10, SNRTrue/10)\n",
        "    sigma = np.sqrt(1/SNRLin/2);\n",
        "    eta = sigma/np.sqrt(2*Ns)*invQfunc(DesiredPfa);\n",
        "    eta = eta * scale\n",
        "\n",
        "    Total_power = np.sum(np.abs(waveNoisy))**2 / waveNoisy.size\n",
        "    ## WEIRD THING HERE\n",
        "    Noise_power = Total_power / (1 + SNRLin)\n",
        "    Signal_power = Total_power - Noise_power\n",
        "\n",
        "\n",
        "    # print(SNRLin)\n",
        "    # print(eta)\n",
        "    filtered = np.matmul(waveOriginal,waveNoisy)\n",
        "    # print(eta)\n",
        "    if np.sum((filtered))/ Ns > eta:\n",
        "      PD = PD + 1\n",
        "\n",
        "    noisy = waveNoisy - waveOriginal\n",
        "    filtered = np.matmul(waveOriginal,noisy)\n",
        "    # print(eta)\n",
        "    if np.sum((filtered))/ Ns > eta:\n",
        "      PFA = PFA + 1\n",
        "    # plt.plot(waveNoisy)\n",
        "    # plt.show()\n",
        "    # plt.plot(waveOriginal)\n",
        "    # plt.show()\n",
        "    # plt.plot(noisy)\n",
        "    # plt.show()\n",
        "    # # plt.plot(filtered)\n",
        "    # # plt.show()\n",
        "\n",
        "    # print(Total_power)\n",
        "    # print(\"Calculated\",Signal_power)\n",
        "    # print(\"Real\", np.linalg.norm(waveOriginal)**2 / waveOriginal.size)\n",
        "    # print(\"Calculated\",Noise_power)\n",
        "    # print(\"Real\", np.linalg.norm(noisy)**2 / noisy.size)\n",
        "  PD = PD /Iter\n",
        "  print(PD)\n",
        "  PDs[SNR + 30] = PD\n",
        "\n",
        "PFA = PFA / (len(SNRs) * Iter)\n",
        "print(PFA)\n",
        "PDsMF100 = PDs"
      ],
      "metadata": {
        "id": "9mNrf7qGD1Nr"
      },
      "execution_count": null,
      "outputs": []
    },
    {
      "cell_type": "code",
      "source": [
        "SNRs = np.arange(-30, 5)\n",
        "PDs = np.zeros((35,1))\n",
        "DesiredPfa = 0.01\n",
        "PFA = 0\n",
        "Iter = 1000\n",
        "Ns = 500\n",
        "scale = 1\n",
        "\n",
        "for SNR in SNRs:\n",
        "  PD = 0\n",
        "  for i in range(Iter):\n",
        "    waveOriginal, waveNoisy, SNRTrue = datagen.genSineWavePaired(SNR,Ns = Ns, scaled=False)\n",
        "\n",
        "\n",
        "    # print(waveOriginal.shape)\n",
        "    # print(waveNoisy.shape)\n",
        "    # print(waveNoisy.shape)\n",
        "\n",
        "\n",
        "    SNRLin = pow(10, SNRTrue/10)\n",
        "    sigma = np.sqrt(1/SNRLin/2);\n",
        "    eta = sigma/np.sqrt(2*Ns)*invQfunc(DesiredPfa);\n",
        "    eta = eta * scale\n",
        "\n",
        "    Total_power = np.sum(np.abs(waveNoisy))**2 / waveNoisy.size\n",
        "    ## WEIRD THING HERE\n",
        "    Noise_power = Total_power / (1 + SNRLin)\n",
        "    Signal_power = Total_power - Noise_power\n",
        "\n",
        "\n",
        "    # print(SNRLin)\n",
        "    # print(eta)\n",
        "    filtered = np.matmul(waveOriginal,waveNoisy)\n",
        "    # print(eta)\n",
        "    if np.sum((filtered))/ Ns > eta:\n",
        "      PD = PD + 1\n",
        "\n",
        "    noisy = waveNoisy - waveOriginal\n",
        "    filtered = np.matmul(waveOriginal,noisy)\n",
        "    # print(eta)\n",
        "    if np.sum((filtered))/ Ns > eta:\n",
        "      PFA = PFA + 1\n",
        "    # plt.plot(waveNoisy)\n",
        "    # plt.show()\n",
        "    # plt.plot(waveOriginal)\n",
        "    # plt.show()\n",
        "    # plt.plot(noisy)\n",
        "    # plt.show()\n",
        "    # # plt.plot(filtered)\n",
        "    # # plt.show()\n",
        "\n",
        "    # print(Total_power)\n",
        "    # print(\"Calculated\",Signal_power)\n",
        "    # print(\"Real\", np.linalg.norm(waveOriginal)**2 / waveOriginal.size)\n",
        "    # print(\"Calculated\",Noise_power)\n",
        "    # print(\"Real\", np.linalg.norm(noisy)**2 / noisy.size)\n",
        "  PD = PD /Iter\n",
        "  print(PD)\n",
        "  PDs[SNR + 30] = PD\n",
        "\n",
        "PFA = PFA / (len(SNRs) * Iter)\n",
        "print(PFA)\n",
        "PDsMF500 = PDs"
      ],
      "metadata": {
        "id": "ClNxfNF8dLSB"
      },
      "execution_count": null,
      "outputs": []
    },
    {
      "cell_type": "code",
      "source": [
        "SNRs = np.arange(-30, 5)\n",
        "PDs = np.zeros((35,1))\n",
        "DesiredPfa = 0.01\n",
        "PFA = 0\n",
        "Iter = 1000\n",
        "Ns = 1000\n",
        "scale = 1\n",
        "\n",
        "for SNR in SNRs:\n",
        "  PD = 0\n",
        "  for i in range(Iter):\n",
        "    waveOriginal, waveNoisy, SNRTrue = datagen.genSineWavePaired(SNR,Ns = Ns, scaled=False)\n",
        "\n",
        "\n",
        "    # print(waveOriginal.shape)\n",
        "    # print(waveNoisy.shape)\n",
        "    # print(waveNoisy.shape)\n",
        "\n",
        "\n",
        "    SNRLin = pow(10, SNRTrue/10)\n",
        "    sigma = np.sqrt(1/SNRLin/2);\n",
        "    eta = sigma/np.sqrt(2*Ns)*invQfunc(DesiredPfa);\n",
        "    eta = eta * scale\n",
        "\n",
        "    Total_power = np.sum(np.abs(waveNoisy))**2 / waveNoisy.size\n",
        "    ## WEIRD THING HERE\n",
        "    Noise_power = Total_power / (1 + SNRLin)\n",
        "    Signal_power = Total_power - Noise_power\n",
        "\n",
        "\n",
        "    # print(SNRLin)\n",
        "    # print(eta)\n",
        "    filtered = np.matmul(waveOriginal,waveNoisy)\n",
        "    # print(eta)\n",
        "    if np.sum((filtered))/ Ns > eta:\n",
        "      PD = PD + 1\n",
        "\n",
        "    noisy = waveNoisy - waveOriginal\n",
        "    filtered = np.matmul(waveOriginal,noisy)\n",
        "    # print(eta)\n",
        "    if np.sum((filtered))/ Ns > eta:\n",
        "      PFA = PFA + 1\n",
        "    # plt.plot(waveNoisy)\n",
        "    # plt.show()\n",
        "    # plt.plot(waveOriginal)\n",
        "    # plt.show()\n",
        "    # plt.plot(noisy)\n",
        "    # plt.show()\n",
        "    # # plt.plot(filtered)\n",
        "    # # plt.show()\n",
        "\n",
        "    # print(Total_power)\n",
        "    # print(\"Calculated\",Signal_power)\n",
        "    # print(\"Real\", np.linalg.norm(waveOriginal)**2 / waveOriginal.size)\n",
        "    # print(\"Calculated\",Noise_power)\n",
        "    # print(\"Real\", np.linalg.norm(noisy)**2 / noisy.size)\n",
        "  PD = PD /Iter\n",
        "  print(PD)\n",
        "  PDs[SNR + 30] = PD\n",
        "\n",
        "PFA = PFA / (len(SNRs) * Iter)\n",
        "print(PFA)\n",
        "PDsMF1000 = PDs"
      ],
      "metadata": {
        "id": "xHJtOmcyV-ef"
      },
      "execution_count": null,
      "outputs": []
    },
    {
      "cell_type": "code",
      "source": [
        "np.save(\"PDMF100RF.npy\",PDsMF100)\n",
        "np.save(\"PDMF500RF.npy\",PDsMF500)\n",
        "np.save(\"PDMF1000RF.npy\",PDsMF1000)\n",
        "plt.plot(PDsMF100)\n",
        "plt.plot(PDsMF500)\n",
        "plt.plot(PDsMF1000)\n",
        "plt.show()"
      ],
      "metadata": {
        "id": "3GRhXeLdWMDf"
      },
      "execution_count": null,
      "outputs": []
    },
    {
      "cell_type": "code",
      "source": [],
      "metadata": {
        "id": "id-tJiqhIRYN"
      },
      "execution_count": null,
      "outputs": []
    },
    {
      "cell_type": "markdown",
      "source": [
        "Matched Filtering IQ\n"
      ],
      "metadata": {
        "id": "_CvfnGFS_LZf"
      }
    },
    {
      "cell_type": "code",
      "source": [
        "SNRs = np.arange(-30, 5)\n",
        "PDs = np.zeros((35,1))\n",
        "DesiredPfa = 0.01\n",
        "PFA = 0\n",
        "Iter = 1000\n",
        "Ns = 100\n",
        "scale = 1.34\n",
        "\n",
        "\n",
        "\n",
        "for SNR in SNRs:\n",
        "  PD = 0\n",
        "  for i in range(Iter):\n",
        "    waveOriginal, waveNoisy, SNRTrue = datagen.genSineWavePaired(SNR,Ns = Ns+100, scaled=False)\n",
        "    waveOriginalIQ = datagen.convertToIQ(waveOriginal)\n",
        "    waveOriginalIQ = waveOriginalIQ[:,0] + 1j*waveOriginalIQ[:,1]\n",
        "    adj = np.max(np.abs(waveOriginalIQ))\n",
        "    waveOriginalIQ = waveOriginalIQ/adj\n",
        "    waveNoisyIQ = datagen.convertToIQ(waveNoisy)\n",
        "    waveNoisyIQ = waveNoisyIQ[:,0] + 1j*waveNoisyIQ[:,1]\n",
        "\n",
        "    waveNoisyIQ = waveNoisyIQ/adj\n",
        "    SNRLin = pow(10, SNRTrue/10)\n",
        "    sigma = np.sqrt(1/SNRLin/2);\n",
        "    eta = sigma/np.sqrt(Ns)*invQfunc(DesiredPfa);\n",
        "\n",
        "\n",
        "    eta = eta * scale\n",
        "\n",
        "\n",
        "\n",
        "    # print(eta)\n",
        "    filtered = np.real(np.matmul(waveOriginalIQ,np.conj(waveNoisyIQ)))\n",
        "    # plt.plot(filtered)\n",
        "    # plt.show()\n",
        "    # print(eta)\n",
        "    if np.sum((filtered))/ Ns > eta:\n",
        "      PD = PD + 1\n",
        "\n",
        "    noisy = waveNoisy - waveOriginal\n",
        "    noisyIQ = datagen.convertToIQ(noisy)\n",
        "    noisyIQ = noisyIQ[:,0] + 1j*noisyIQ[:,1]\n",
        "\n",
        "    noisyIQ = waveNoisyIQ - waveOriginalIQ\n",
        "    filtered = np.real(np.matmul(waveOriginalIQ,np.conj(noisyIQ)))\n",
        "    # print(eta)\n",
        "    if np.sum((filtered))/ Ns > eta:\n",
        "      PFA = PFA + 1\n",
        "    # plt.plot(waveNoisy)\n",
        "    # plt.show()\n",
        "    # plt.plot(noisy)\n",
        "    # plt.show()\n",
        "    # plt.plot(waveOriginal)\n",
        "    # plt.show()\n",
        "    # plt.plot(filtered)\n",
        "    # plt.show()\n",
        "\n",
        "  PD = PD /Iter\n",
        "  print(PD)\n",
        "  PDs[SNR + 30] = PD\n",
        "\n",
        "PFA = PFA / (len(SNRs) * Iter)\n",
        "PDsMF100 = PDs\n",
        "print(PFA)"
      ],
      "metadata": {
        "id": "xbYEemt3_dl_"
      },
      "execution_count": null,
      "outputs": []
    },
    {
      "cell_type": "code",
      "source": [
        "\n",
        "np.save(\"PDsMF100IQ.npy\",PDsMF100)"
      ],
      "metadata": {
        "id": "tuOeeG4wJxnm"
      },
      "execution_count": null,
      "outputs": []
    },
    {
      "cell_type": "code",
      "source": [
        "SNRs = np.arange(-30, 5)\n",
        "PDs = np.zeros((35,1))\n",
        "DesiredPfa = 0.01\n",
        "PFA = 0\n",
        "Iter = 1000\n",
        "Ns = 500\n",
        "scale = 1.35\n",
        "\n",
        "\n",
        "for SNR in SNRs:\n",
        "  PD = 0\n",
        "  for i in range(Iter):\n",
        "    waveOriginal, waveNoisy, SNRTrue = datagen.genSineWavePaired(SNR,Ns = Ns+100, scaled=False)\n",
        "    waveOriginalIQ = datagen.convertToIQ(waveOriginal)\n",
        "    waveOriginalIQ = waveOriginalIQ[:,0] + 1j*waveOriginalIQ[:,1]\n",
        "    adj = np.max(np.abs(waveOriginalIQ))\n",
        "    waveOriginalIQ = waveOriginalIQ/adj\n",
        "    waveNoisyIQ = datagen.convertToIQ(waveNoisy)\n",
        "    waveNoisyIQ = waveNoisyIQ[:,0] + 1j*waveNoisyIQ[:,1]\n",
        "\n",
        "    waveNoisyIQ = waveNoisyIQ/adj\n",
        "    SNRLin = pow(10, SNRTrue/10)\n",
        "    sigma = np.sqrt(1/SNRLin/2);\n",
        "    eta = sigma/np.sqrt(Ns)*invQfunc(DesiredPfa);\n",
        "\n",
        "\n",
        "    eta = eta * scale\n",
        "\n",
        "\n",
        "\n",
        "    # print(eta)\n",
        "    filtered = np.real(np.matmul(waveOriginalIQ,np.conj(waveNoisyIQ)))\n",
        "    # plt.plot(filtered)\n",
        "    # plt.show()\n",
        "    # print(eta)\n",
        "    if np.sum((filtered))/ Ns > eta:\n",
        "      PD = PD + 1\n",
        "\n",
        "    noisy = waveNoisy - waveOriginal\n",
        "    noisyIQ = datagen.convertToIQ(noisy)\n",
        "    noisyIQ = noisyIQ[:,0] + 1j*noisyIQ[:,1]\n",
        "\n",
        "    noisyIQ = waveNoisyIQ - waveOriginalIQ\n",
        "    filtered = np.real(np.matmul(waveOriginalIQ,np.conj(noisyIQ)))\n",
        "    # print(eta)\n",
        "    if np.sum((filtered))/ Ns > eta:\n",
        "      PFA = PFA + 1\n",
        "    # plt.plot(waveNoisy)\n",
        "    # plt.show()\n",
        "    # plt.plot(noisy)\n",
        "    # plt.show()\n",
        "    # plt.plot(waveOriginal)\n",
        "    # plt.show()\n",
        "    # plt.plot(filtered)\n",
        "    # plt.show()\n",
        "\n",
        "  PD = PD /Iter\n",
        "  print(PD)\n",
        "  PDs[SNR + 30] = PD\n",
        "\n",
        "PFA = PFA / (len(SNRs) * Iter)\n",
        "PDsMF500 = PDs\n",
        "print(PFA)"
      ],
      "metadata": {
        "id": "rpfOYKEHdQ94"
      },
      "execution_count": null,
      "outputs": []
    },
    {
      "cell_type": "code",
      "source": [
        "\n",
        "np.save(\"PDsMF500IQ.npy\",PDsMF500)"
      ],
      "metadata": {
        "id": "_52Fx12II-63"
      },
      "execution_count": null,
      "outputs": []
    },
    {
      "cell_type": "code",
      "source": [
        "SNRs = np.arange(-30, 5)\n",
        "PDs = np.zeros((35,1))\n",
        "DesiredPfa = 0.01\n",
        "PFA = 0\n",
        "Iter = 500\n",
        "Ns = 1000\n",
        "scale = 1.345\n",
        "\n",
        "\n",
        "for SNR in SNRs:\n",
        "  PD = 0\n",
        "  for i in range(Iter):\n",
        "    waveOriginal, waveNoisy, SNRTrue = datagen.genSineWavePaired(SNR,Ns = Ns+100, scaled=False)\n",
        "    waveOriginalIQ = datagen.convertToIQ(waveOriginal)\n",
        "    waveOriginalIQ = waveOriginalIQ[:,0] + 1j*waveOriginalIQ[:,1]\n",
        "    adj = np.max(np.abs(waveOriginalIQ))\n",
        "    waveOriginalIQ = waveOriginalIQ/adj\n",
        "    waveNoisyIQ = datagen.convertToIQ(waveNoisy)\n",
        "    waveNoisyIQ = waveNoisyIQ[:,0] + 1j*waveNoisyIQ[:,1]\n",
        "\n",
        "    waveNoisyIQ = waveNoisyIQ/adj\n",
        "    SNRLin = pow(10, SNRTrue/10)\n",
        "    sigma = np.sqrt(1/SNRLin/2);\n",
        "    eta = sigma/np.sqrt(Ns)*invQfunc(DesiredPfa);\n",
        "\n",
        "\n",
        "    eta = eta * scale\n",
        "\n",
        "\n",
        "\n",
        "    # print(eta)\n",
        "    filtered = np.real(np.matmul(waveOriginalIQ,np.conj(waveNoisyIQ)))\n",
        "    # plt.plot(filtered)\n",
        "    # plt.show()\n",
        "    # print(eta)\n",
        "    if np.sum((filtered))/ Ns > eta:\n",
        "      PD = PD + 1\n",
        "\n",
        "    noisy = waveNoisy - waveOriginal\n",
        "    noisyIQ = datagen.convertToIQ(noisy)\n",
        "    noisyIQ = noisyIQ[:,0] + 1j*noisyIQ[:,1]\n",
        "\n",
        "    noisyIQ = waveNoisyIQ - waveOriginalIQ\n",
        "    filtered = np.real(np.matmul(waveOriginalIQ,np.conj(noisyIQ)))\n",
        "    # print(eta)\n",
        "    if np.sum((filtered))/ Ns > eta:\n",
        "      PFA = PFA + 1\n",
        "    # plt.plot(waveNoisy)\n",
        "    # plt.show()\n",
        "    # plt.plot(noisy)\n",
        "    # plt.show()\n",
        "    # plt.plot(waveOriginal)\n",
        "    # plt.show()\n",
        "    # plt.plot(filtered)\n",
        "    # plt.show()\n",
        "\n",
        "  PD = PD /Iter\n",
        "  print(PD)\n",
        "  PDs[SNR + 30] = PD\n",
        "\n",
        "PFA = PFA / (len(SNRs) * Iter)\n",
        "PDsMF1000 = PDs\n",
        "print(PFA)"
      ],
      "metadata": {
        "id": "4c8Bh_PCdW9c"
      },
      "execution_count": null,
      "outputs": []
    },
    {
      "cell_type": "code",
      "source": [
        "\n",
        "np.save(\"PDsMF1000IQ.npy\",PDsMF1000)"
      ],
      "metadata": {
        "id": "OgSiszlaGvxI"
      },
      "execution_count": null,
      "outputs": []
    },
    {
      "cell_type": "code",
      "source": [
        "plt.plot(PDs)"
      ],
      "metadata": {
        "id": "mhtcnqbGDdSA"
      },
      "execution_count": null,
      "outputs": []
    },
    {
      "cell_type": "code",
      "source": [
        "SNRs = np.arange(-30, 5)\n",
        "PDs = np.zeros((35,1))\n",
        "DesiredPfa = 0.01\n",
        "PFA = 0\n",
        "Iter = 1000\n",
        "Ns = 500\n",
        "\n",
        "\n",
        "\n",
        "for SNR in SNRs:\n",
        "  PD = 0\n",
        "  for i in range(Iter):\n",
        "    waveOriginal, waveNoisy, SNRTrue = datagen.genSineWavePaired(SNR,Ns = Ns + 100, scaled=True)\n",
        "    waveOriginalIQ = datagen.convertToIQ(waveOriginal)\n",
        "    waveOriginalIQ = waveOriginalIQ[:,0] + 1j*waveOriginalIQ[:,1]\n",
        "    waveNoisyIQ = datagen.convertToIQ(waveNoisy)\n",
        "    waveNoisyIQ = waveNoisyIQ[:,0] + 1j*waveNoisyIQ[:,1]\n",
        "\n",
        "    SNRLin = pow(10, SNRTrue/10)\n",
        "    sigma = np.sqrt(1/SNRLin/2);\n",
        "    eta = sigma/np.sqrt(2*Ns)*invQfunc(DesiredPfa);\n",
        "    scale = 0.68\n",
        "\n",
        "    eta = eta * scale\n",
        "\n",
        "\n",
        "\n",
        "    # print(eta)\n",
        "    filtered = np.convolve(waveOriginalIQ,waveNoisyIQ) / Ns\n",
        "    # plt.plot(filtered)\n",
        "    # plt.show()\n",
        "    # print(eta)\n",
        "    if np.max(np.abs(filtered)) > eta:\n",
        "      PD = PD + 1\n",
        "\n",
        "    noisy = datagen.genNoise(Ns = Ns + 100, scaled=False,sigma=sigma)\n",
        "    noisyIQ = datagen.convertToIQ(noisy)\n",
        "    noisyIQ = noisyIQ[:,0] + 1j*noisyIQ[:,1]\n",
        "    filtered = np.convolve(waveOriginalIQ,noisyIQ) / Ns\n",
        "    # print(filtered.shape)\n",
        "    if np.max(np.abs(filtered)) > eta:\n",
        "      PFA = PFA + 1\n",
        "    # plt.plot(waveNoisy)\n",
        "    # plt.show()\n",
        "    # plt.plot(noisy)\n",
        "    # plt.show()\n",
        "    # plt.plot(waveOriginal)\n",
        "    # plt.show()\n",
        "    # plt.plot(filtered)\n",
        "    # plt.show()\n",
        "\n",
        "  PD = PD /Iter\n",
        "  print(PD)\n",
        "  PDs[SNR + 30] = PD\n",
        "\n",
        "PFA = PFA / (len(SNRs) * Iter)\n",
        "print(PFA)\n",
        "PDsMF500 = PDs"
      ],
      "metadata": {
        "id": "-hNKV9Pr8xgK"
      },
      "execution_count": null,
      "outputs": []
    },
    {
      "cell_type": "code",
      "source": [
        "SNRs = np.arange(-30, 5)\n",
        "PDs = np.zeros((35,1))\n",
        "DesiredPfa = 0.01\n",
        "PFA = 0\n",
        "Iter = 1000\n",
        "Ns = 1000\n",
        "\n",
        "\n",
        "\n",
        "for SNR in SNRs:\n",
        "  PD = 0\n",
        "  for i in range(Iter):\n",
        "    waveOriginal, waveNoisy, SNRTrue = datagen.genSineWavePaired(SNR,Ns = Ns + 100, scaled=True)\n",
        "    waveOriginalIQ = datagen.convertToIQ(waveOriginal)\n",
        "    waveOriginalIQ = waveOriginalIQ[:,0] + 1j*waveOriginalIQ[:,1]\n",
        "    waveNoisyIQ = datagen.convertToIQ(waveNoisy)\n",
        "    waveNoisyIQ = waveNoisyIQ[:,0] + 1j*waveNoisyIQ[:,1]\n",
        "\n",
        "    SNRLin = pow(10, SNRTrue/10)\n",
        "    sigma = np.sqrt(1/SNRLin/2);\n",
        "    eta = sigma/np.sqrt(2*Ns)*invQfunc(DesiredPfa);\n",
        "    scale = 0.69\n",
        "    eta = eta * scale\n",
        "\n",
        "\n",
        "\n",
        "    # print(eta)\n",
        "    filtered = np.convolve(waveOriginalIQ,waveNoisyIQ) / Ns\n",
        "    # plt.plot(filtered)\n",
        "    # plt.show()\n",
        "    # print(eta)\n",
        "    if np.max(np.abs(filtered)) > eta:\n",
        "      PD = PD + 1\n",
        "\n",
        "    noisy = datagen.genNoise(Ns = Ns + 100, scaled=False,sigma=sigma)\n",
        "    noisyIQ = datagen.convertToIQ(noisy)\n",
        "    noisyIQ = noisyIQ[:,0] + 1j*noisyIQ[:,1]\n",
        "    filtered = np.convolve(waveOriginalIQ,noisyIQ) / Ns\n",
        "    # print(eta)\n",
        "    if np.max(np.abs(filtered)) > eta:\n",
        "      PFA = PFA + 1\n",
        "    # plt.plot(waveNoisy)\n",
        "    # plt.show()\n",
        "    # plt.plot(noisy)\n",
        "    # plt.show()\n",
        "    # plt.plot(waveOriginal)\n",
        "    # plt.show()\n",
        "    # plt.plot(filtered)\n",
        "    # plt.show()\n",
        "\n",
        "  PD = PD /Iter\n",
        "  print(PD)\n",
        "  PDs[SNR + 30] = PD\n",
        "\n",
        "PFA = PFA / (len(SNRs) * Iter)\n",
        "print(PFA)\n",
        "PDsMF1000 = PDs"
      ],
      "metadata": {
        "id": "_FFNlflm_WLt"
      },
      "execution_count": null,
      "outputs": []
    },
    {
      "cell_type": "code",
      "source": [
        "IQ1000 = np.load(\"Results/PDMF1000IQ.npy\")\n",
        "RF1000 = np.load(\"Results/PDMF1000RF.npy\")\n",
        "IQ500 = np.load(\"Results/PDMF500IQ.npy\")\n",
        "RF500 = np.load(\"Results/PDMF500RF.npy\")\n",
        "IQ100 = np.load(\"Results/PDMF100IQ.npy\")\n",
        "RF100 = np.load(\"Results/PDMF100RF.npy\")\n",
        "\n",
        "plt.plot(IQ1000)\n",
        "plt.plot(RF1000)\n",
        "plt.plot(IQ500)\n",
        "plt.plot(RF500)\n",
        "plt.plot(IQ100)\n",
        "plt.plot(RF100)\n",
        "plt.show()"
      ],
      "metadata": {
        "id": "IvEvCsBUKg-z"
      },
      "execution_count": null,
      "outputs": []
    },
    {
      "cell_type": "code",
      "source": [
        "SNRs = np.arange(-30, 5)\n",
        "PDsConv = np.zeros((35,1))\n",
        "for SNR in SNRs:\n",
        "  PD = 0\n",
        "  for i in range(5000):\n",
        "    waveOriginal, waveNoisy = datagen.genSineWavePaired(SNR,Ns = 500, scaled=True)\n",
        "\n",
        "    filtered = np.convolve(waveOriginal,waveNoisy)\n",
        "    if np.max(np.abs(filtered)) > threshold:\n",
        "      PD = PD + 1\n",
        "\n",
        "    # plt.plot(waveNoisy)\n",
        "    # plt.show()\n",
        "    # plt.plot(waveOriginal)\n",
        "    # plt.show()\n",
        "    # plt.plot(filtered)\n",
        "    # plt.show()\n",
        "\n",
        "  PD = PD /5000\n",
        "  print(PD)\n",
        "  PDsConv[SNR + 30] = PD"
      ],
      "metadata": {
        "id": "o8I02w-uk3h9"
      },
      "execution_count": null,
      "outputs": []
    },
    {
      "cell_type": "code",
      "source": [
        "plt.plot(PDs)\n",
        "plt.plot(PDsConv)\n",
        "plt.show()"
      ],
      "metadata": {
        "id": "6yI1uNKqk8mF"
      },
      "execution_count": null,
      "outputs": []
    },
    {
      "cell_type": "code",
      "source": [
        "preds = np.zeros((120000,1))\n",
        "for i in range(len(preds)):\n",
        "  sample = X_valid[i].swapaxes(0,1)\n",
        "  # print(sample.shape)\n",
        "  fourier = np.fft.fft(sample[:,0])\n",
        "  # plt.plot(fourier)\n",
        "  # plt.show()\n",
        "  # print(fourier.shape)\n",
        "  preds[i] = np.max(np.abs(fourier))\n",
        "\n",
        "threshold = 23.3\n",
        "\n",
        "index = 60000\n",
        "total = 0\n",
        "for i in range(60000):\n",
        "  sample = preds[index] > threshold\n",
        "  total = total + sample\n",
        "  index = index + 1\n",
        "PFA = total / 60000\n",
        "print(\"PFA:\", PFA)\n",
        "\n",
        "\n",
        "index = 0\n",
        "SNRs = np.arange(-25,5)\n",
        "PDs = np.zeros(len(SNRs))\n",
        "for SNR in SNRs:\n",
        "  total = 0\n",
        "  for i in range(2000):\n",
        "    sample = preds[index] > threshold\n",
        "    total = total + sample\n",
        "    index = index + 1\n",
        "  PDs[int(index/2000 - 1)] = total / 2000\n",
        "\n",
        "plt.plot(SNRs, PDs)\n",
        "PDFFTThreshold =PDs\n",
        "np.save(\"PDsMCNN\", PDsMCNN)"
      ],
      "metadata": {
        "id": "8CenYCMbJVEU"
      },
      "execution_count": null,
      "outputs": []
    },
    {
      "cell_type": "code",
      "source": [],
      "metadata": {
        "id": "AekHJItYUKKQ"
      },
      "execution_count": null,
      "outputs": []
    },
    {
      "cell_type": "code",
      "source": [
        "\n",
        "plt.plot(waveOriginal)\n",
        "plt.plot(waveNoisy)"
      ],
      "metadata": {
        "id": "cquV8vZpMC2q"
      },
      "execution_count": null,
      "outputs": []
    },
    {
      "cell_type": "code",
      "execution_count": null,
      "metadata": {
        "id": "mvLt2omfF6ty"
      },
      "outputs": [],
      "source": [
        "import datagen\n",
        "import numpy as np"
      ]
    },
    {
      "cell_type": "code",
      "source": [
        "\n",
        "resultOG, resultIQ = datagen.genSineFile()\n",
        "\n",
        "np.save(\"TrainTest/SineWaveOG.npy\", resultOG)\n",
        "np.save(\"TrainTest/SineWaveIQ.npy\", resultIQ)\n",
        "resultOG, resultIQ = datagen.genNoiseFile()\n",
        "np.save(\"TrainTest/NoiseOG.npy\", resultOG)\n",
        "np.save(\"TrainTest/NoiseIQ.npy\", resultIQ)"
      ],
      "metadata": {
        "id": "FPDiAgS_ypaY"
      },
      "execution_count": null,
      "outputs": []
    },
    {
      "cell_type": "code",
      "source": [
        "import numpy as np\n",
        "from keras.utils import to_categorical\n",
        "from sklearn.model_selection import train_test_split\n",
        "\n",
        "# X_train, X_test, y_train, y_test = train_test_split(X,y,test_size = 0.33, stratify = y)"
      ],
      "metadata": {
        "id": "RNgYFJzIHADT"
      },
      "execution_count": null,
      "outputs": []
    },
    {
      "cell_type": "code",
      "source": [
        "\n",
        "\n",
        "\n",
        "# resultOG, resultIQ = datagen.genSineFile()\n",
        "\n",
        "# X_train, X_test, y_train, y_test = train_test_split(X,y,test_size = 0.33, stratify = y)"
      ],
      "metadata": {
        "id": "MTf8aPiEGdpC"
      },
      "execution_count": null,
      "outputs": []
    },
    {
      "cell_type": "markdown",
      "source": [],
      "metadata": {
        "id": "dUugsR7eHjaZ"
      }
    },
    {
      "cell_type": "code",
      "source": [
        "plt.plot(preds)"
      ],
      "metadata": {
        "id": "JqhR-2mlZRet"
      },
      "execution_count": null,
      "outputs": []
    },
    {
      "cell_type": "code",
      "source": [
        "from sktime.classification.deep_learning.lstmfcn import LSTMFCNClassifier\n",
        "from sktime.classification.deep_learning.macnn import MACNNClassifier"
      ],
      "metadata": {
        "id": "j9COFMTjP7MW"
      },
      "execution_count": null,
      "outputs": []
    },
    {
      "cell_type": "code",
      "source": [
        "network = MACNNClassifier(n_epochs=5, verbose=True)\n",
        "network.fit(X_train, y_train)\n",
        "network.score(X_test, y_test)"
      ],
      "metadata": {
        "id": "gzWL1_a-NJUK"
      },
      "execution_count": null,
      "outputs": []
    },
    {
      "cell_type": "code",
      "source": [
        "preds = network.predict_proba(X_valid)"
      ],
      "metadata": {
        "id": "vcCB2jM7dLQU"
      },
      "execution_count": null,
      "outputs": []
    },
    {
      "cell_type": "code",
      "source": [
        "plt.plot(preds)\n"
      ],
      "metadata": {
        "id": "r8MpkmpLf0UW"
      },
      "execution_count": null,
      "outputs": []
    },
    {
      "cell_type": "code",
      "source": [
        "threshold = 0.691\n",
        "\n",
        "index = 60000\n",
        "total = 0\n",
        "for i in range(60000):\n",
        "  sample = preds[index][1] > threshold\n",
        "  total = total + sample\n",
        "  index = index + 1\n",
        "PFA = total / 30000\n",
        "print(\"PFA:\", PFA)\n",
        "\n",
        "\n",
        "index = 0\n",
        "PDs = np.zeros(30)\n",
        "SNRs = np.arange(-25,5)\n",
        "for SNR in SNRs:\n",
        "  total = 0\n",
        "  for i in range(2000):\n",
        "    sample = preds[index][1] > threshold\n",
        "    total = total + sample\n",
        "    index = index + 1\n",
        "  PDs[int(index/2000 - 1)] = total / 2000\n",
        "\n",
        "plt.plot(SNRs, PDs)\n",
        "PDsMACNN = PDs\n",
        "np.save(\"PDsMACNN\", PDsMACNN)"
      ],
      "metadata": {
        "id": "pQpZt-gEdNK7"
      },
      "execution_count": null,
      "outputs": []
    },
    {
      "cell_type": "code",
      "source": [
        "network = LSTMFCNClassifier(n_epochs=20, verbose=True)\n",
        "network.fit(X_train, y_train)\n",
        "network.score(X_test, y_test)"
      ],
      "metadata": {
        "id": "bp8BFN0GP7lc"
      },
      "execution_count": null,
      "outputs": []
    },
    {
      "cell_type": "code",
      "source": [
        "preds = network.predict_proba(X_valid)"
      ],
      "metadata": {
        "id": "m4o2UY_0dTJL"
      },
      "execution_count": null,
      "outputs": []
    },
    {
      "cell_type": "code",
      "source": [
        "threshold = 0.912\n",
        "\n",
        "index = 60000\n",
        "total = 0\n",
        "for i in range(60000):\n",
        "  sample = preds[index][1] > threshold\n",
        "  total = total + sample\n",
        "  index = index + 1\n",
        "PFA = total / 60000\n",
        "print(\"PFA:\", PFA)\n",
        "\n",
        "\n",
        "index = 0\n",
        "SNRs = np.arange(-25,5)\n",
        "PDs = np.zeros(len(SNRs))\n",
        "for SNR in SNRs:\n",
        "  total = 0\n",
        "  for i in range(2000):\n",
        "    sample = preds[index][1] > threshold\n",
        "    total = total + sample\n",
        "    index = index + 1\n",
        "  PDs[int(index/2000 - 1)] = total / 2000\n",
        "\n",
        "plt.plot(SNRs, PDs)\n",
        "PDsLSTMFCN =PDs\n",
        "np.save(\"PDsLSTMFCN\", PDsLSTMFCN)"
      ],
      "metadata": {
        "id": "xI-0kpg5dUP1"
      },
      "execution_count": null,
      "outputs": []
    },
    {
      "cell_type": "markdown",
      "source": [
        "HIVECOTE V2 - SUPPOSEDLY BEST\n"
      ],
      "metadata": {
        "id": "1GIpOaF5CKKx"
      }
    },
    {
      "cell_type": "code",
      "source": [
        "from tsai.models.MINIROCKET import *\n",
        "\n",
        "import numpy as np\n",
        "from tsai.basics import *\n",
        "import sktime\n",
        "import sklearn\n",
        "my_setup(sktime, sklearn)\n",
        "\n"
      ],
      "metadata": {
        "id": "7rnVp-0pk4A0"
      },
      "execution_count": null,
      "outputs": []
    },
    {
      "cell_type": "code",
      "source": [
        "\n",
        "from sktime.classification.hybrid._hivecote_v2 import HIVECOTEV2"
      ],
      "metadata": {
        "id": "GT58nRnQ4-xf"
      },
      "execution_count": null,
      "outputs": []
    },
    {
      "cell_type": "code",
      "source": [
        "print(X_train.shape)"
      ],
      "metadata": {
        "id": "956wvmy85qbn"
      },
      "execution_count": null,
      "outputs": []
    },
    {
      "cell_type": "code",
      "source": [
        "\n"
      ],
      "metadata": {
        "id": "NWjWMkn75NgB"
      },
      "execution_count": null,
      "outputs": []
    },
    {
      "cell_type": "code",
      "source": [
        "\n",
        "model = HIVECOTEV2(\n",
        "        drcif_params={\n",
        "            \"contract_max_n_estimators\": 1,\n",
        "            \"n_intervals\": 2,\n",
        "            \"att_subsample_size\": 2,\n",
        "        },\n",
        "        arsenal_params={\"num_kernels\": 5, \"contract_max_n_estimators\": 1},\n",
        "        tde_params={\n",
        "            \"contract_max_n_parameter_samples\": 1,\n",
        "            \"max_ensemble_size\": 1,\n",
        "            \"randomly_selected_params\": 1,\n",
        "        },\n",
        "        time_limit_in_minutes=0.25,\n",
        "        random_state=0,\n",
        "    )"
      ],
      "metadata": {
        "id": "DFC9sGB3BWbZ"
      },
      "execution_count": null,
      "outputs": []
    },
    {
      "cell_type": "code",
      "source": [
        "\n",
        "model.fit(X_train, np.array(y_train, dtype=int))\n"
      ],
      "metadata": {
        "id": "J-NxpTKeAhyV"
      },
      "execution_count": null,
      "outputs": []
    },
    {
      "cell_type": "code",
      "source": [
        "\n",
        "preds = model.predict_proba(X_valid)\n"
      ],
      "metadata": {
        "id": "GmP6bYA36cin"
      },
      "execution_count": null,
      "outputs": []
    },
    {
      "cell_type": "code",
      "source": [
        "threshold = 0.691\n",
        "\n",
        "index = 60000\n",
        "total = 0\n",
        "for i in range(60000):\n",
        "  sample = preds[index][1] > threshold\n",
        "  total = total + sample\n",
        "  index = index + 1\n",
        "PFA = total / 30000\n",
        "print(\"PFA:\", PFA)\n",
        "\n",
        "\n",
        "index = 0\n",
        "PDs = np.zeros(30)\n",
        "SNRs = np.arange(-25,5)\n",
        "for SNR in SNRs:\n",
        "  total = 0\n",
        "  for i in range(2000):\n",
        "    sample = preds[index][1] > threshold\n",
        "    total = total + sample\n",
        "    index = index + 1\n",
        "  PDs[int(index/2000 - 1)] = total / 2000\n",
        "\n",
        "plt.plot(SNRs, PDs)\n",
        "PDsMACNN = PDs\n",
        "np.save(\"PDsMACNN\", PDsMACNN)"
      ],
      "metadata": {
        "id": "FMiquK_RE3IK"
      },
      "execution_count": null,
      "outputs": []
    },
    {
      "cell_type": "code",
      "source": [
        "!pip install numpy==1.23.1"
      ],
      "metadata": {
        "id": "_7XkAAHm7oU-"
      },
      "execution_count": null,
      "outputs": []
    },
    {
      "cell_type": "code",
      "source": [
        "model.fit(X_train,y_train)"
      ],
      "metadata": {
        "id": "hNAsTWNI5QG5"
      },
      "execution_count": null,
      "outputs": []
    },
    {
      "cell_type": "code",
      "source": [
        "preds = model.predict(X_valid.swapaxes(1,2))"
      ],
      "metadata": {
        "id": "SyLOs6T_1bXd"
      },
      "execution_count": null,
      "outputs": []
    },
    {
      "cell_type": "code",
      "source": [
        "threshold = 0.78\n",
        "\n",
        "index = 30000\n",
        "total = 0\n",
        "for i in range(30000):\n",
        "  sample = preds[index] > threshold\n",
        "  total = total + sample\n",
        "  index = index + 1\n",
        "PFA = total / 30000\n",
        "print(\"PFA:\", PFA)\n",
        "\n",
        "\n",
        "index = 0\n",
        "SNRs = np.arange(-25,5)\n",
        "PDs = np.zeros(len(SNRs))\n",
        "for SNR in SNRs:\n",
        "  total = 0\n",
        "  for i in range(1000):\n",
        "    sample = preds[index] > threshold\n",
        "    total = total + sample\n",
        "    index = index + 1\n",
        "  PDs[int(index/1000 - 1)] = total / 1000\n",
        "\n",
        "plt.plot(SNRs, PDs)\n",
        "PDsMCNN =PDs\n",
        "np.save(\"PDsMCNN\", PDsMCNN)"
      ],
      "metadata": {
        "id": "5SjptnvZ3TEm"
      },
      "execution_count": null,
      "outputs": []
    },
    {
      "cell_type": "code",
      "source": [
        "preds = np.zeros((120000,1))\n",
        "for i in range(len(preds)):\n",
        "  sample = X_valid[i].swapaxes(0,1)\n",
        "  # print(sample.shape)\n",
        "  fourier = np.fft.fft(sample[:,0])\n",
        "  # plt.plot(fourier)\n",
        "  # plt.show()\n",
        "  # print(fourier.shape)\n",
        "  preds[i] = np.max(np.abs(fourier))\n",
        "\n",
        "threshold = 23.3\n",
        "\n",
        "index = 60000\n",
        "total = 0\n",
        "for i in range(60000):\n",
        "  sample = preds[index] > threshold\n",
        "  total = total + sample\n",
        "  index = index + 1\n",
        "PFA = total / 60000\n",
        "print(\"PFA:\", PFA)\n",
        "\n",
        "\n",
        "index = 0\n",
        "SNRs = np.arange(-25,5)\n",
        "PDs = np.zeros(len(SNRs))\n",
        "for SNR in SNRs:\n",
        "  total = 0\n",
        "  for i in range(2000):\n",
        "    sample = preds[index] > threshold\n",
        "    total = total + sample\n",
        "    index = index + 1\n",
        "  PDs[int(index/2000 - 1)] = total / 2000\n",
        "\n",
        "plt.plot(SNRs, PDs)\n",
        "PDFFTThreshold =PDs\n",
        "np.save(\"PDsMCNN\", PDsMCNN)"
      ],
      "metadata": {
        "id": "f-O-ggLe_iHm"
      },
      "execution_count": null,
      "outputs": []
    },
    {
      "cell_type": "code",
      "source": [
        "plt.plot(SNRs, PDsMinirocket,label = 'Minirocket')\n",
        "plt.plot(SNRs, PDsLSTMFCN, label = 'LSTM')\n",
        "plt.plot(SNRs, PDsMACNN,label = 'MACNN')\n",
        "plt.plot(SNRs, PDsInception, label = 'Inception')\n",
        "plt.plot(SNRs, PDsMCNN, label = 'MCNN')\n",
        "plt.plot(SNRs, PDFFTThreshold, label = 'FFT Threshold')\n",
        "plt.legend()\n",
        "plt.xlabel('SNRdB')\n",
        "plt.ylabel('PD')\n",
        "plt.show()"
      ],
      "metadata": {
        "id": "w5679NhUylOU"
      },
      "execution_count": null,
      "outputs": []
    },
    {
      "cell_type": "code",
      "source": [
        "\n",
        "plt.plot(SNRs, PDsMCNN, label = 'MCNN')\n",
        "plt.plot(SNRs, PDFFTThreshold, label = 'FFT Threshold')"
      ],
      "metadata": {
        "id": "m0UU9VlUINRm"
      },
      "execution_count": null,
      "outputs": []
    },
    {
      "cell_type": "code",
      "source": [
        "print(X_valid.shape)"
      ],
      "metadata": {
        "id": "8K41GJ1m_W0I"
      },
      "execution_count": null,
      "outputs": []
    },
    {
      "cell_type": "code",
      "source": [
        "\n",
        "  sample = X_valid[25000].swapaxes(0,1)\n",
        "  # print(sample.shape)\n",
        "  plt.plot(sample[:,0])\n",
        "  plt.show()\n",
        "  fourier = np.fft.fft(sample[:,0])\n",
        "  plt.plot(fourier)\n",
        "  plt.show()"
      ],
      "metadata": {
        "id": "QtfQTx8wBNjS"
      },
      "execution_count": null,
      "outputs": []
    },
    {
      "cell_type": "code",
      "source": [],
      "metadata": {
        "id": "mfuj3FDZJY7c"
      },
      "execution_count": null,
      "outputs": []
    },
    {
      "cell_type": "code",
      "source": [
        "import numpy as np\n",
        "X_true = np.load('Valid/SineWaveIQ.npy')\n",
        "X_false = np.load('Valid/NoiseIQ.npy')\n",
        "y_true = np.ones(shape=(X_true.shape[0]))\n",
        "y_false = np.zeros(shape=(X_false.shape[0]))\n",
        "X_valid = np.concatenate((X_true,X_false), axis=0).swapaxes(1,2)\n",
        "y_valid = np.concatenate((y_true,y_false),axis=0)\n",
        "\n",
        "X_true = np.load('TrainTest/SineWaveIQ.npy')\n",
        "X_false = np.load('TrainTest/NoiseIQ.npy')\n",
        "y_true = np.ones(shape=(X_true.shape[0]))\n",
        "y_false = np.zeros(shape=(X_false.shape[0]))\n",
        "X = np.concatenate((X_true,X_false), axis=0).swapaxes(1,2)\n",
        "y = np.concatenate((y_true,y_false),axis=0)\n",
        "\n",
        "from sklearn.model_selection import train_test_split\n",
        "\n",
        "X_train, X_test, y_train, y_test = train_test_split(X,y,test_size = 0.33, stratify = y)\n"
      ],
      "metadata": {
        "id": "HlD8w8he00mR"
      },
      "execution_count": null,
      "outputs": []
    },
    {
      "cell_type": "code",
      "source": [
        "\n",
        "from tensorflow.keras.layers import (Input, Conv1D, Conv2D, Conv3D, SpatialDropout1D,\n",
        "                                     MaxPooling1D, MaxPooling2D, MaxPooling3D, Flatten, Concatenate,\n",
        "                                     Reshape,\n",
        "                                     GlobalAveragePooling1D,\n",
        "                                     Dropout, Dense, BatchNormalization)\n",
        "from tensorflow.keras import Model\n",
        "from tensorflow.keras.optimizers import Adam\n",
        "from tensorflow.keras import metrics\n",
        "from math import floor\n",
        "import numpy as np\n",
        "from tensorflow.keras.utils import plot_model\n",
        "\n",
        "def build_model():\n",
        "\n",
        "    inputLen = 1000\n",
        "    input_ = Input(shape=(inputLen,2))\n",
        "\n",
        "    num_filters = 256\n",
        "    resulting_filters = 512\n",
        "    dropout = 0.1\n",
        "    pooling = True\n",
        "\n",
        "\n",
        "    branch_1 = Conv1D(filters=num_filters*2, kernel_size=3, dilation_rate=1, padding='same',activation = 'relu') (input_)\n",
        "    branch_1 = SpatialDropout1D(dropout)(branch_1)\n",
        "    branch_1= MaxPooling1D(pool_size=2, strides=2) (branch_1)\n",
        "    branch_1 = Reshape((int(inputLen/2),resulting_filters,1))(branch_1)\n",
        "\n",
        "    branch_2 = Conv1D(filters=num_filters*2, kernel_size=3, dilation_rate=2, padding='same',activation = 'relu') (input_)\n",
        "    branch_2 = SpatialDropout1D(dropout)(branch_2)\n",
        "    branch_2= MaxPooling1D(pool_size=2, strides=2) (branch_2)\n",
        "    branch_2 = Reshape((int(inputLen/2),resulting_filters,1))(branch_2)\n",
        "\n",
        "    branch_3 = Conv1D(filters=num_filters*2, kernel_size=3, dilation_rate=3, padding='same',activation = 'relu') (input_)\n",
        "    branch_3 = SpatialDropout1D(dropout)(branch_3)\n",
        "    branch_3= MaxPooling1D(pool_size=2, strides=2) (branch_3)\n",
        "    branch_3 = Reshape((int(inputLen/2),resulting_filters,1))(branch_3)\n",
        "\n",
        "    branch_4 = Conv1D(filters=num_filters*2, kernel_size=3, dilation_rate=4, padding='same',activation = 'relu') (input_)\n",
        "    branch_4 = SpatialDropout1D(dropout)(branch_4)\n",
        "    branch_4= MaxPooling1D(pool_size=2, strides=2) (branch_4)\n",
        "    branch_4 = Reshape((int(inputLen/2),resulting_filters,1))(branch_4)\n",
        "\n",
        "    branch_5 = Conv1D(filters=num_filters*2, kernel_size=3, dilation_rate=5, padding='same',activation = 'relu') (input_)\n",
        "    branch_5 = SpatialDropout1D(dropout)(branch_5)\n",
        "    branch_5= MaxPooling1D(pool_size=2, strides=2) (branch_5)\n",
        "    branch_5 = Reshape((int(inputLen/2),resulting_filters,1))(branch_5)\n",
        "\n",
        "    branch_6 = Conv1D(filters=num_filters*2, kernel_size=3, dilation_rate=6, padding='same',activation = 'relu') (input_)\n",
        "    branch_6 = SpatialDropout1D(dropout)(branch_6)\n",
        "    branch_6 = MaxPooling1D(pool_size=2, strides=2) (branch_6)\n",
        "    branch_6 = Reshape((int(inputLen/2),resulting_filters,1))(branch_6)\n",
        "\n",
        "\n",
        "\n",
        "\n",
        "\n",
        "\n",
        "    concat = Concatenate(axis=3) ([branch_1, branch_2, branch_3, branch_4, branch_5,branch_6])\n",
        "    concat = Conv2D(filters = 512, kernel_size=(3,resulting_filters),activation = 'relu') (concat)\n",
        "    concat = Reshape((int(inputLen/2) - 2,512))(concat)\n",
        "    concat = SpatialDropout1D(0.1)(concat)\n",
        "    for i in range(1,4):\n",
        "        concat= Conv1D(filters=(int)(256 * (1.2**i)), kernel_size=3,padding=\"same\",activation = 'relu')(concat)\n",
        "        concat= MaxPooling1D(pool_size=2, strides=2) (concat)\n",
        "\n",
        "    concat= Conv1D(filters=1028, kernel_size=3,padding=\"valid\",activation = 'relu')(concat)\n",
        "    concat = GlobalAveragePooling1D() (concat)\n",
        "    dense1 = Flatten()(concat)\n",
        "    out = Dense(1, activation = 'sigmoid') (dense1)\n",
        "\n",
        "\n",
        "    model = Model(inputs=input_, outputs=out)\n",
        "    weights = np.ones((1,))\n",
        "    weights[0] = 3\n",
        "    model.compile(optimizer=Adam(learning_rate=0.00001), loss='binary_crossentropy', metrics=['accuracy', metrics.FalsePositives(), metrics.FalseNegatives()])\n",
        "    return model\n",
        "\n",
        "model = build_model()\n",
        "\n",
        "\n",
        "model.summary()\n",
        "\n",
        "history = model.fit(x=X_train.swapaxes(1,2)   , y=y_train, validation_data=(X_test.swapaxes(1,2), y_test), epochs=5, batch_size=100)\n"
      ],
      "metadata": {
        "id": "wvHghNWB3F60"
      },
      "execution_count": null,
      "outputs": []
    },
    {
      "cell_type": "code",
      "source": [
        "preds = model.predict(X_valid.swapaxes(1,2))"
      ],
      "metadata": {
        "id": "Ma97nke9K_qq"
      },
      "execution_count": null,
      "outputs": []
    },
    {
      "cell_type": "code",
      "source": [
        "np.save(\"MCNNPreds\",preds)"
      ],
      "metadata": {
        "id": "QAqUocQVK7q6"
      },
      "execution_count": null,
      "outputs": []
    },
    {
      "cell_type": "markdown",
      "source": [],
      "metadata": {
        "id": "CJ039Yaiz1Zk"
      }
    },
    {
      "cell_type": "code",
      "source": [
        "plt.plot(preds)\n",
        "plt.show()"
      ],
      "metadata": {
        "id": "zeUdNlijAgh3"
      },
      "execution_count": null,
      "outputs": []
    },
    {
      "cell_type": "code",
      "source": [],
      "metadata": {
        "id": "Ui7FtY09_UCH"
      },
      "execution_count": null,
      "outputs": []
    },
    {
      "cell_type": "code",
      "source": [
        "PDsTotal = np.concatenate((PDsMinirocket,PDsLSTMFCN,PDsMACNN,PDsInception,PDsMCNN))"
      ],
      "metadata": {
        "id": "2GFZO2xC3pWz"
      },
      "execution_count": null,
      "outputs": []
    },
    {
      "cell_type": "code",
      "source": [
        "np.savetxt('PDArray.csv',PDsTotal, delimiter = ',')\n"
      ],
      "metadata": {
        "id": "OBHP5lTj3zk8"
      },
      "execution_count": null,
      "outputs": []
    },
    {
      "cell_type": "code",
      "source": [],
      "metadata": {
        "id": "0TJHsm97_UIO"
      },
      "execution_count": null,
      "outputs": []
    },
    {
      "cell_type": "code",
      "source": [
        "import pandas as pd\n",
        "pd.DataFrame(PDsTotal).to_csv(\"PDArray.csv\")\n"
      ],
      "metadata": {
        "id": "9LIxEsMh4qCS"
      },
      "execution_count": null,
      "outputs": []
    },
    {
      "cell_type": "markdown",
      "source": [],
      "metadata": {
        "id": "cbW48TrlI41J"
      }
    }
  ]
}